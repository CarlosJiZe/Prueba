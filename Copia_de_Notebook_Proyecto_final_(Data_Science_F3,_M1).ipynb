{
  "nbformat": 4,
  "nbformat_minor": 0,
  "metadata": {
    "colab": {
      "name": "Copia de Notebook - Proyecto final (Data Science - F3, M1).ipynb",
      "provenance": [],
      "collapsed_sections": [
        "tgLDrnD_9rTt",
        "SCwSVs8G9r07",
        "wtsUklMw-QSx",
        "hMfKyIkS-Ql4"
      ],
      "include_colab_link": true
    },
    "kernelspec": {
      "name": "python3",
      "display_name": "Python 3"
    },
    "language_info": {
      "name": "python"
    }
  },
  "cells": [
    {
      "cell_type": "markdown",
      "metadata": {
        "id": "view-in-github",
        "colab_type": "text"
      },
      "source": [
        "<a href=\"https://colab.research.google.com/github/CarlosJiZe/Prueba/blob/main/Copia_de_Notebook_Proyecto_final_(Data_Science_F3%2C_M1).ipynb\" target=\"_parent\"><img src=\"https://colab.research.google.com/assets/colab-badge.svg\" alt=\"Open In Colab\"/></a>"
      ]
    },
    {
      "cell_type": "markdown",
      "metadata": {
        "id": "0Rr2lPkZoIeY"
      },
      "source": [
        "# _**BEDU** | DATA SCIENCE_\n",
        "## _**MÓDULO 1** (FASE 3) | ANÁLISIS DE DATOS CON PYTHON_\n",
        "#### _**PROYECTO FINAL** | Colab NOTEBOOK (EQUIPO 3)_"
      ]
    },
    {
      "cell_type": "markdown",
      "metadata": {
        "id": "akamX44-ooOb"
      },
      "source": [
        "> _**ANTES DE COMENZAR...**_\n",
        ">\n",
        "> _¿Qué te parece si nos ubicamos dentro del mismo contexto?_"
      ]
    },
    {
      "cell_type": "markdown",
      "metadata": {
        "id": "P7AUY5qe7H6a"
      },
      "source": [
        "Desde el módulo pasado el Equipo 3 seleccionó una problemática social de interés común, a partir de la cual se redactó un escrito guía que facilitó el inicio del presente análisis de datos.\n",
        "\n",
        "Si tienes curiosidad por conocer el escrito antes mencionado, puedes visitar este [enlace](https://docs.google.com/document/d/1wwfUJ4ZAmH6cBWL_miKNlR_3_5xI5iKGUcqG-Ijl-J4/edit) y darle un vistazo. Sin embargo, para lograr contextualizarnos, bastará con mencionar el objetivo general que perseguimos con este trabajo. Es decir: `Determinar la postura ideológica predominante entre la población mexicana hacia el fenómeno de vacunación COVID19, evaluando distintos aspectos de aceptación, así como posibles rasgos sociológicos y conductuales que estén implicados en el tema`."
      ]
    },
    {
      "cell_type": "markdown",
      "metadata": {
        "id": "Jnv2Q15SxNrr"
      },
      "source": [
        "Cabe mencionar también que los conjuntos de datos utilizados a continuación fueron procesados previamente, organizados y situados en archivos `.csv`; de modo entonces que el presente _Notebook_ da inicio con una lectura de dichos archivos.\n",
        "\n",
        "Finalmente, si tienes curiosidad por conocer el origen de nuestros datos y el procedimiento que seguimos para procesarlos, puedes visitar el siguiente [enlace](https://colab.research.google.com/drive/1irL6j0hV3PCo--oHpsDgedOZjckVLVX0#scrollTo=6avDa8Wuzm3i) y darle un vistazo al _Notebook_ que creamos desde el módulo anterior."
      ]
    },
    {
      "cell_type": "markdown",
      "metadata": {
        "id": "t11g3n3ELUdc"
      },
      "source": [
        "> _**ADEMÁS...**_\n",
        ">\n",
        "> _En este punto del desarrollo, afortunadamente ya se tiene una perspectiva mucho más clara de la problemática. Por lo tanto, se identificaron ya, de manera precisa, cuáles son los datos que nos servirán para responder adecuadamente nuestras preguntas y cuáles no._\n",
        ">\n",
        "> _De modo que sí o sí es necesario aplicar nuevamente un pequeño procesamiento, con la intención de optimizar el análisis de nuestros datos y reducir el tamaño de nuestros datsets_."
      ]
    },
    {
      "cell_type": "code",
      "metadata": {
        "id": "4hrv-MS4QSCD"
      },
      "source": [
        "import pandas as pd # Se importa la primera librería que vamos a utilizar."
      ],
      "execution_count": 524,
      "outputs": []
    },
    {
      "cell_type": "code",
      "metadata": {
        "colab": {
          "base_uri": "https://localhost:8080/"
        },
        "id": "xZR_I3M6AFn2",
        "outputId": "e8c8f022-d704-4bff-b170-327426dd8769"
      },
      "source": [
        "from google.colab import drive\n",
        "drive.mount('/content/drive')"
      ],
      "execution_count": 525,
      "outputs": [
        {
          "output_type": "stream",
          "name": "stdout",
          "text": [
            "Drive already mounted at /content/drive; to attempt to forcibly remount, call drive.mount(\"/content/drive\", force_remount=True).\n"
          ]
        }
      ]
    },
    {
      "cell_type": "markdown",
      "metadata": {
        "id": "Sal_09CNkiSC"
      },
      "source": [
        "> _**LO QUE SIGUE ES ¡MUY IMPORTANTE! PARA QUE PUEDAS LEER LOS DATASETS DESDE TU COLAB...**_\n",
        ">\n",
        "> _Si no modificas la ruta de acceso que está escrita en la línea de código siguiente, no podrás ejecutar exitosamente el Notebook. Por lo tanto, sigue los pasos que a continuación se enlistan._\n",
        ">\n",
        "> 1. _Agrega un acceso directo de este [directorio](https://drive.google.com/drive/folders/1TxFNyAPz5nSFdKK_fPat5iyzZwzr07er?usp=sharing) a tu `Google Drive`._\n",
        "2. _Vincula tu `Drive` con `Colab`._\n",
        "3. _Desde `Colab`, busca la carpeta que recién agregaste y copia su ruta de acceso._\n",
        "4. _Con la ruta que copiaste, sustituye la asignación que tiene escrita la variable `ruta_de_acceso`._\n",
        "5. _Procede con la ejecución del Notebook._"
      ]
    },
    {
      "cell_type": "code",
      "metadata": {
        "id": "60wV9xz2aO1A"
      },
      "source": [
        "ruta_de_acceso = \"/content/drive/MyDrive/Datasets Equipo 3\""
      ],
      "execution_count": 526,
      "outputs": []
    },
    {
      "cell_type": "code",
      "metadata": {
        "id": "f6z7Ygtr_d8i"
      },
      "source": [
        "df1 = pd.read_csv(ruta_de_acceso + \"/Dataset_1.csv\", index_col = 0, header = [0, 1], engine='python')\n",
        "df1.rename(columns = {\"Unnamed: 3_level_0\": \"\"}, inplace = True) # 'Dataset' 1.\n",
        "\n",
        "df2 = pd.read_csv(ruta_de_acceso + \"/Dataset_2.csv\", index_col = 0, header = [0, 1], engine='python')\n",
        "df2.rename(columns = {\"Unnamed: 3_level_0\": \"\"}, inplace = True) # 'Dataset' 2.\n",
        "\n",
        "df3 = pd.read_csv(ruta_de_acceso + \"/Dataset_3.csv\", index_col = 0, header = [0, 1], engine='python')\n",
        "df3.rename(columns = {\"Unnamed: 3_level_0\": \"\"}, inplace = True) # 'Dataset' 3.\n",
        "\n",
        "# Nota que aunque la carpeta que agregaste a tu 'Drive' como acceso directo tenga cuatro 'datasets', las variables almacenadas en el último\n",
        "# conjunto de datos no son suficientemente significativas para responder nuestras preguntas y por tanto se omitirán desde ahora."
      ],
      "execution_count": 527,
      "outputs": []
    },
    {
      "cell_type": "code",
      "metadata": {
        "id": "zaTfBjamQaAz"
      },
      "source": [
        "df1_dropped = df1.drop(columns = [(\"know_people_sick\", \"indicator_percentage\"),\n",
        "                                  (\"know_people_sick\", \"sample_size\"),\n",
        "                                  (\"food_lackness_concern\", \"indicator_percentage\"),\n",
        "                                  (\"food_lackness_concern\", \"sample_size\")]) # Se eliminan las columnas del primer 'dataset' que se consideraron poco\n",
        "                                                                             # útiles para responder nuestras preguntas.\n",
        "df2_dropped = df2.drop(columns = [(\"trust_politicians_recommendation\", \"indicator_percentage\"),\n",
        "                                  (\"trust_politicians_recommendation\", \"sample_size\")]) # Se eliminan las columnas del segundo 'dataset' que se consideraron\n",
        "                                                                                        # poco útiles para responder nuestras preguntas.\n",
        "\n",
        "# Nota que el tercer conjunto de datos quedó intacto, pues eventualmente todas sus columnas nos aportarán información para responder preguntas."
      ],
      "execution_count": 528,
      "outputs": []
    },
    {
      "cell_type": "markdown",
      "metadata": {
        "id": "avYcKS204xxa"
      },
      "source": [
        "> _**AHORA SÍ, SIN MÁS POR EL MOMENTO...**_\n",
        ">\n",
        "> _¿Qué te parece si comenzamos?_"
      ]
    },
    {
      "cell_type": "code",
      "metadata": {
        "colab": {
          "base_uri": "https://localhost:8080/"
        },
        "id": "TsWqJc3fx1eG",
        "outputId": "77ad7c23-eb54-4d52-a7a2-8dfb18685dc3"
      },
      "source": [
        "!pip install plotly --upgrade; # Esta línea de código se utiliza para actualizar la librería 'plotly', la cual se utilizará más adelante."
      ],
      "execution_count": 529,
      "outputs": [
        {
          "output_type": "stream",
          "name": "stdout",
          "text": [
            "Requirement already satisfied: plotly in /usr/local/lib/python3.7/dist-packages (5.3.1)\n",
            "Requirement already satisfied: six in /usr/local/lib/python3.7/dist-packages (from plotly) (1.15.0)\n",
            "Requirement already satisfied: tenacity>=6.2.0 in /usr/local/lib/python3.7/dist-packages (from plotly) (8.0.1)\n"
          ]
        }
      ]
    },
    {
      "cell_type": "code",
      "metadata": {
        "id": "I3mhJeZdtcGx"
      },
      "source": [
        "# Se declara el resto de paquetes y librerías que se utilizarán a lo largo de este 'Notebook'.\n",
        "import numpy as np\n",
        "\n",
        "import matplotlib.pyplot as plt\n",
        "import seaborn as sns\n",
        "import plotly.express as px\n",
        "import folium\n",
        "import math\n",
        "\n",
        "from sklearn.model_selection import train_test_split\n",
        "from sklearn.model_selection import cross_validate\n",
        "from sklearn.linear_model import LinearRegression\n",
        "from scipy import stats\n",
        "from scipy.stats import skew, kurtosis"
      ],
      "execution_count": 651,
      "outputs": []
    },
    {
      "cell_type": "markdown",
      "metadata": {
        "id": "tgLDrnD_9rTt"
      },
      "source": [
        "#### _**Sesión 1:** Estimados de locación y variabilidad_"
      ]
    },
    {
      "cell_type": "markdown",
      "metadata": {
        "id": "m7yeR9Yof4tj"
      },
      "source": [
        "**Tomando los siguientes indicadores: `accept_vaccine (df2)`, `financial_concern (df1)` y `barrier_side_effects (df3)` obtén las siguientes medidas de estadística para cada uno de ellos: 'mean', 'weighted mean', 'trimmed mean', 'median', 'std', 'range', 'percetile 0.25', 'percentile 0.75' y 'IQR'. Almacena los resultados en un _dataframe_ con índices apropiados, tanto para filas como para columnas**."
      ]
    },
    {
      "cell_type": "markdown",
      "metadata": {
        "id": "cWlc8wgWiOQb"
      },
      "source": [
        "> **¡Debes notar que...!**\n",
        ">\n",
        "> se calculó la **media ponderada** de los indicadores `accept_vaccine`, `financial_concern` y `barrier_side_effects`, porque el tamaño o \"peso\" de las muestras con las cuales se obtuvieron sus respectivos porcentajes variaba diariamente.\n",
        ">\n",
        "> No obstante, por comodidad y para facilitarnos el manejo de los datos, en todos los procedimientos posteriores se utilizará la media aritmética simple. Nótese que únicamente se pretende demostrar lo aprendido durante el curso y aplicar las herramientas computacionales que este nos brindó. Por lo tanto, resulta indistinto qué medida de estadística se utilice.\n",
        "\n",
        "Por otro lado, a continuación se enuncia brevemente el significado de los indicadores antes utilizados:\n",
        "\n",
        "`accept_vaccine`: indica cuál es el porcentaje de la población que acepta la vacuna.\n",
        "\n",
        "`financial_concern`: indica cuál es el porcentaje de la población que se preocupa por su estado financiero (hasta cierto punto es un indicador del estatus socioeconómico de quienes contestaron la encuesta).\n",
        "\n",
        "`barrier_side_effects`: inidica cuál es el porcentaje de la población que considera que los efectos secundarios de la vacuna son un impedimento para aplicársela."
      ]
    },
    {
      "cell_type": "markdown",
      "metadata": {
        "id": "shyJdBP-tkhd"
      },
      "source": [
        "##### **Financial_concern**"
      ]
    },
    {
      "cell_type": "markdown",
      "metadata": {
        "id": "N8Jslm07t5fs"
      },
      "source": [
        "###### **Limpieza del df1**"
      ]
    },
    {
      "cell_type": "code",
      "metadata": {
        "colab": {
          "base_uri": "https://localhost:8080/",
          "height": 162
        },
        "id": "llI638XsA7XN",
        "outputId": "2f360546-5c5c-4c19-95cd-465b3633e836"
      },
      "source": [
        "df1_dropped.head(2) ## Revisamos la nueva configuración del df1"
      ],
      "execution_count": 531,
      "outputs": [
        {
          "output_type": "execute_result",
          "data": {
            "text/html": [
              "<div>\n",
              "<style scoped>\n",
              "    .dataframe tbody tr th:only-of-type {\n",
              "        vertical-align: middle;\n",
              "    }\n",
              "\n",
              "    .dataframe tbody tr th {\n",
              "        vertical-align: top;\n",
              "    }\n",
              "\n",
              "    .dataframe thead tr th {\n",
              "        text-align: left;\n",
              "    }\n",
              "</style>\n",
              "<table border=\"1\" class=\"dataframe\">\n",
              "  <thead>\n",
              "    <tr>\n",
              "      <th></th>\n",
              "      <th colspan=\"2\" halign=\"left\">survey_information</th>\n",
              "      <th></th>\n",
              "      <th colspan=\"2\" halign=\"left\">covid_19</th>\n",
              "      <th colspan=\"2\" halign=\"left\">wear_a_mask</th>\n",
              "      <th colspan=\"2\" halign=\"left\">financial_concern</th>\n",
              "    </tr>\n",
              "    <tr>\n",
              "      <th></th>\n",
              "      <th>region_where_applied</th>\n",
              "      <th>survey_date</th>\n",
              "      <th>survey_date_short</th>\n",
              "      <th>indicator_percentage</th>\n",
              "      <th>sample_size</th>\n",
              "      <th>indicator_percentage</th>\n",
              "      <th>sample_size</th>\n",
              "      <th>indicator_percentage</th>\n",
              "      <th>sample_size</th>\n",
              "    </tr>\n",
              "  </thead>\n",
              "  <tbody>\n",
              "    <tr>\n",
              "      <th>0</th>\n",
              "      <td>Aguascalientes</td>\n",
              "      <td>2020-11-23</td>\n",
              "      <td>2020-11</td>\n",
              "      <td>0.023153</td>\n",
              "      <td>8453</td>\n",
              "      <td>0.899553</td>\n",
              "      <td>7455</td>\n",
              "      <td>0.630136</td>\n",
              "      <td>6991</td>\n",
              "    </tr>\n",
              "    <tr>\n",
              "      <th>1</th>\n",
              "      <td>Aguascalientes</td>\n",
              "      <td>2020-11-24</td>\n",
              "      <td>2020-11</td>\n",
              "      <td>0.020100</td>\n",
              "      <td>9490</td>\n",
              "      <td>0.901764</td>\n",
              "      <td>8354</td>\n",
              "      <td>0.619214</td>\n",
              "      <td>7853</td>\n",
              "    </tr>\n",
              "  </tbody>\n",
              "</table>\n",
              "</div>"
            ],
            "text/plain": [
              "    survey_information              ...    financial_concern            \n",
              "  region_where_applied survey_date  ... indicator_percentage sample_size\n",
              "0       Aguascalientes  2020-11-23  ...             0.630136        6991\n",
              "1       Aguascalientes  2020-11-24  ...             0.619214        7853\n",
              "\n",
              "[2 rows x 9 columns]"
            ]
          },
          "metadata": {},
          "execution_count": 531
        }
      ]
    },
    {
      "cell_type": "code",
      "metadata": {
        "colab": {
          "base_uri": "https://localhost:8080/",
          "height": 131
        },
        "id": "Pa7jXpcnSnVu",
        "outputId": "783a6970-ef08-461c-9e39-f238d276bc90"
      },
      "source": [
        "df1_columnas_sin_indexar=df1_dropped.copy() \n",
        "df1_columnas_sin_indexar.columns=df1_columnas_sin_indexar.columns.droplevel(0)\n",
        "df1_columnas_sin_indexar.head(2) #Aqui lo que se hace es crear un nuevo df pero sin multi-indice\n",
        "\n",
        "# Tener cuidado de solo ejecutar esta celda una vez, ya que intentar hacerlo de nuevo va a dar un error ya que el multi-indice ya fue eliminado"
      ],
      "execution_count": 532,
      "outputs": [
        {
          "output_type": "execute_result",
          "data": {
            "text/html": [
              "<div>\n",
              "<style scoped>\n",
              "    .dataframe tbody tr th:only-of-type {\n",
              "        vertical-align: middle;\n",
              "    }\n",
              "\n",
              "    .dataframe tbody tr th {\n",
              "        vertical-align: top;\n",
              "    }\n",
              "\n",
              "    .dataframe thead th {\n",
              "        text-align: right;\n",
              "    }\n",
              "</style>\n",
              "<table border=\"1\" class=\"dataframe\">\n",
              "  <thead>\n",
              "    <tr style=\"text-align: right;\">\n",
              "      <th></th>\n",
              "      <th>region_where_applied</th>\n",
              "      <th>survey_date</th>\n",
              "      <th>survey_date_short</th>\n",
              "      <th>indicator_percentage</th>\n",
              "      <th>sample_size</th>\n",
              "      <th>indicator_percentage</th>\n",
              "      <th>sample_size</th>\n",
              "      <th>indicator_percentage</th>\n",
              "      <th>sample_size</th>\n",
              "    </tr>\n",
              "  </thead>\n",
              "  <tbody>\n",
              "    <tr>\n",
              "      <th>0</th>\n",
              "      <td>Aguascalientes</td>\n",
              "      <td>2020-11-23</td>\n",
              "      <td>2020-11</td>\n",
              "      <td>0.023153</td>\n",
              "      <td>8453</td>\n",
              "      <td>0.899553</td>\n",
              "      <td>7455</td>\n",
              "      <td>0.630136</td>\n",
              "      <td>6991</td>\n",
              "    </tr>\n",
              "    <tr>\n",
              "      <th>1</th>\n",
              "      <td>Aguascalientes</td>\n",
              "      <td>2020-11-24</td>\n",
              "      <td>2020-11</td>\n",
              "      <td>0.020100</td>\n",
              "      <td>9490</td>\n",
              "      <td>0.901764</td>\n",
              "      <td>8354</td>\n",
              "      <td>0.619214</td>\n",
              "      <td>7853</td>\n",
              "    </tr>\n",
              "  </tbody>\n",
              "</table>\n",
              "</div>"
            ],
            "text/plain": [
              "  region_where_applied survey_date  ... indicator_percentage  sample_size\n",
              "0       Aguascalientes  2020-11-23  ...             0.630136         6991\n",
              "1       Aguascalientes  2020-11-24  ...             0.619214         7853\n",
              "\n",
              "[2 rows x 9 columns]"
            ]
          },
          "metadata": {},
          "execution_count": 532
        }
      ]
    },
    {
      "cell_type": "code",
      "metadata": {
        "colab": {
          "base_uri": "https://localhost:8080/",
          "height": 111
        },
        "id": "xo4f_zdxU3je",
        "outputId": "96029607-ae7d-4ff7-bb32-465be51b4b9f"
      },
      "source": [
        "df_1_financial_corcern=df1_columnas_sin_indexar.iloc[:,[0,2,7,8]]\n",
        "df_1_financial_corcern.head(2) ## Separamos las columnas que solo corresponden a financial_concern"
      ],
      "execution_count": 533,
      "outputs": [
        {
          "output_type": "execute_result",
          "data": {
            "text/html": [
              "<div>\n",
              "<style scoped>\n",
              "    .dataframe tbody tr th:only-of-type {\n",
              "        vertical-align: middle;\n",
              "    }\n",
              "\n",
              "    .dataframe tbody tr th {\n",
              "        vertical-align: top;\n",
              "    }\n",
              "\n",
              "    .dataframe thead th {\n",
              "        text-align: right;\n",
              "    }\n",
              "</style>\n",
              "<table border=\"1\" class=\"dataframe\">\n",
              "  <thead>\n",
              "    <tr style=\"text-align: right;\">\n",
              "      <th></th>\n",
              "      <th>region_where_applied</th>\n",
              "      <th>survey_date_short</th>\n",
              "      <th>indicator_percentage</th>\n",
              "      <th>sample_size</th>\n",
              "    </tr>\n",
              "  </thead>\n",
              "  <tbody>\n",
              "    <tr>\n",
              "      <th>0</th>\n",
              "      <td>Aguascalientes</td>\n",
              "      <td>2020-11</td>\n",
              "      <td>0.630136</td>\n",
              "      <td>6991</td>\n",
              "    </tr>\n",
              "    <tr>\n",
              "      <th>1</th>\n",
              "      <td>Aguascalientes</td>\n",
              "      <td>2020-11</td>\n",
              "      <td>0.619214</td>\n",
              "      <td>7853</td>\n",
              "    </tr>\n",
              "  </tbody>\n",
              "</table>\n",
              "</div>"
            ],
            "text/plain": [
              "  region_where_applied survey_date_short  indicator_percentage  sample_size\n",
              "0       Aguascalientes           2020-11              0.630136         6991\n",
              "1       Aguascalientes           2020-11              0.619214         7853"
            ]
          },
          "metadata": {},
          "execution_count": 533
        }
      ]
    },
    {
      "cell_type": "code",
      "metadata": {
        "colab": {
          "base_uri": "https://localhost:8080/",
          "height": 111
        },
        "id": "eW0PNPTuBfPN",
        "outputId": "2ef5e86d-b49e-47a0-c15d-2f9e48ee26ae"
      },
      "source": [
        "amount_of_positive_answers=df_1_financial_corcern.sample_size*df_1_financial_corcern.indicator_percentage \n",
        "df_1_financial_corcern.insert(4,'amount_of_positive_answers',amount_of_positive_answers)\n",
        "df_1_financial_corcern.head(2) #Insertamos una tercero columna para poder hacer todo el analisis sobre la misma"
      ],
      "execution_count": 534,
      "outputs": [
        {
          "output_type": "execute_result",
          "data": {
            "text/html": [
              "<div>\n",
              "<style scoped>\n",
              "    .dataframe tbody tr th:only-of-type {\n",
              "        vertical-align: middle;\n",
              "    }\n",
              "\n",
              "    .dataframe tbody tr th {\n",
              "        vertical-align: top;\n",
              "    }\n",
              "\n",
              "    .dataframe thead th {\n",
              "        text-align: right;\n",
              "    }\n",
              "</style>\n",
              "<table border=\"1\" class=\"dataframe\">\n",
              "  <thead>\n",
              "    <tr style=\"text-align: right;\">\n",
              "      <th></th>\n",
              "      <th>region_where_applied</th>\n",
              "      <th>survey_date_short</th>\n",
              "      <th>indicator_percentage</th>\n",
              "      <th>sample_size</th>\n",
              "      <th>amount_of_positive_answers</th>\n",
              "    </tr>\n",
              "  </thead>\n",
              "  <tbody>\n",
              "    <tr>\n",
              "      <th>0</th>\n",
              "      <td>Aguascalientes</td>\n",
              "      <td>2020-11</td>\n",
              "      <td>0.630136</td>\n",
              "      <td>6991</td>\n",
              "      <td>4405.280776</td>\n",
              "    </tr>\n",
              "    <tr>\n",
              "      <th>1</th>\n",
              "      <td>Aguascalientes</td>\n",
              "      <td>2020-11</td>\n",
              "      <td>0.619214</td>\n",
              "      <td>7853</td>\n",
              "      <td>4862.687542</td>\n",
              "    </tr>\n",
              "  </tbody>\n",
              "</table>\n",
              "</div>"
            ],
            "text/plain": [
              "  region_where_applied  ... amount_of_positive_answers\n",
              "0       Aguascalientes  ...                4405.280776\n",
              "1       Aguascalientes  ...                4862.687542\n",
              "\n",
              "[2 rows x 5 columns]"
            ]
          },
          "metadata": {},
          "execution_count": 534
        }
      ]
    },
    {
      "cell_type": "markdown",
      "metadata": {
        "id": "PQIRldJSuJVl"
      },
      "source": [
        "###### **Media**"
      ]
    },
    {
      "cell_type": "code",
      "metadata": {
        "colab": {
          "base_uri": "https://localhost:8080/"
        },
        "id": "Inopt3KJXj22",
        "outputId": "c1daeee3-ef1e-4303-cf2d-1716d9640031"
      },
      "source": [
        "media=df_1_financial_corcern['amount_of_positive_answers'].mean() #Media\n",
        "print(f'El promedio de personas que se preocuparon por la situación financiera en México por día es de:{round(media,0)}')"
      ],
      "execution_count": 535,
      "outputs": [
        {
          "output_type": "stream",
          "name": "stdout",
          "text": [
            "El promedio de personas que se preocuparon por la situación financiera en México por día es de:3365.0\n"
          ]
        }
      ]
    },
    {
      "cell_type": "markdown",
      "metadata": {
        "id": "ipUTvFvjuVAF"
      },
      "source": [
        "###### **Media ponderada**"
      ]
    },
    {
      "cell_type": "code",
      "metadata": {
        "colab": {
          "base_uri": "https://localhost:8080/",
          "height": 0
        },
        "id": "HChIE4Kpiqvr",
        "outputId": "6007bcb4-512d-4f53-cc81-18ea9cd337f3"
      },
      "source": [
        "Total_personas_entrevistadas=df_1_financial_corcern['sample_size'].sum()\n",
        "weight_of_sample=(df_1_financial_corcern['sample_size']*100)/Total_personas_entrevistadas\n",
        "df_1_financial_corcern_02=df_1_financial_corcern.copy() #Creamos un nuevo df para el calculo de la media ponderada\n",
        "df_1_financial_corcern_02.insert(4,'weight_of_sample',weight_of_sample)\n",
        "df_1_financial_corcern_02.head(2) #Aplicamos una regla de tres simple para obtener el peso de la muestra en relación del total de muestras"
      ],
      "execution_count": 536,
      "outputs": [
        {
          "output_type": "execute_result",
          "data": {
            "text/html": [
              "<div>\n",
              "<style scoped>\n",
              "    .dataframe tbody tr th:only-of-type {\n",
              "        vertical-align: middle;\n",
              "    }\n",
              "\n",
              "    .dataframe tbody tr th {\n",
              "        vertical-align: top;\n",
              "    }\n",
              "\n",
              "    .dataframe thead th {\n",
              "        text-align: right;\n",
              "    }\n",
              "</style>\n",
              "<table border=\"1\" class=\"dataframe\">\n",
              "  <thead>\n",
              "    <tr style=\"text-align: right;\">\n",
              "      <th></th>\n",
              "      <th>region_where_applied</th>\n",
              "      <th>survey_date_short</th>\n",
              "      <th>indicator_percentage</th>\n",
              "      <th>sample_size</th>\n",
              "      <th>weight_of_sample</th>\n",
              "      <th>amount_of_positive_answers</th>\n",
              "    </tr>\n",
              "  </thead>\n",
              "  <tbody>\n",
              "    <tr>\n",
              "      <th>0</th>\n",
              "      <td>Aguascalientes</td>\n",
              "      <td>2020-11</td>\n",
              "      <td>0.630136</td>\n",
              "      <td>6991</td>\n",
              "      <td>0.017632</td>\n",
              "      <td>4405.280776</td>\n",
              "    </tr>\n",
              "    <tr>\n",
              "      <th>1</th>\n",
              "      <td>Aguascalientes</td>\n",
              "      <td>2020-11</td>\n",
              "      <td>0.619214</td>\n",
              "      <td>7853</td>\n",
              "      <td>0.019806</td>\n",
              "      <td>4862.687542</td>\n",
              "    </tr>\n",
              "  </tbody>\n",
              "</table>\n",
              "</div>"
            ],
            "text/plain": [
              "  region_where_applied  ... amount_of_positive_answers\n",
              "0       Aguascalientes  ...                4405.280776\n",
              "1       Aguascalientes  ...                4862.687542\n",
              "\n",
              "[2 rows x 6 columns]"
            ]
          },
          "metadata": {},
          "execution_count": 536
        }
      ]
    },
    {
      "cell_type": "code",
      "metadata": {
        "colab": {
          "base_uri": "https://localhost:8080/",
          "height": 0
        },
        "id": "SZBe7BmQk4F_",
        "outputId": "8553c6cb-5326-4d61-b718-2454b1ac1d03"
      },
      "source": [
        "# La formula de media ponderada es sumatorio(w_i*x_i)/sumatorio(w_i)\n",
        "# En nuestro caso w_i es el weight_of_sample y x_i es amount_of_positive_answer\n",
        "sum_w_i=(df_1_financial_corcern_02['weight_of_sample'].sum())/100 #Se divide entre 100 ya que las cantidades estan en %\n",
        "w_i_x_i=(df_1_financial_corcern_02['weight_of_sample']/100)*(df_1_financial_corcern_02['amount_of_positive_answers'])\n",
        "df_1_financial_corcern_02.insert(6,'w_i_x_i',w_i_x_i)\n",
        "df_1_financial_corcern_02.head(2)"
      ],
      "execution_count": 537,
      "outputs": [
        {
          "output_type": "execute_result",
          "data": {
            "text/html": [
              "<div>\n",
              "<style scoped>\n",
              "    .dataframe tbody tr th:only-of-type {\n",
              "        vertical-align: middle;\n",
              "    }\n",
              "\n",
              "    .dataframe tbody tr th {\n",
              "        vertical-align: top;\n",
              "    }\n",
              "\n",
              "    .dataframe thead th {\n",
              "        text-align: right;\n",
              "    }\n",
              "</style>\n",
              "<table border=\"1\" class=\"dataframe\">\n",
              "  <thead>\n",
              "    <tr style=\"text-align: right;\">\n",
              "      <th></th>\n",
              "      <th>region_where_applied</th>\n",
              "      <th>survey_date_short</th>\n",
              "      <th>indicator_percentage</th>\n",
              "      <th>sample_size</th>\n",
              "      <th>weight_of_sample</th>\n",
              "      <th>amount_of_positive_answers</th>\n",
              "      <th>w_i_x_i</th>\n",
              "    </tr>\n",
              "  </thead>\n",
              "  <tbody>\n",
              "    <tr>\n",
              "      <th>0</th>\n",
              "      <td>Aguascalientes</td>\n",
              "      <td>2020-11</td>\n",
              "      <td>0.630136</td>\n",
              "      <td>6991</td>\n",
              "      <td>0.017632</td>\n",
              "      <td>4405.280776</td>\n",
              "      <td>0.776718</td>\n",
              "    </tr>\n",
              "    <tr>\n",
              "      <th>1</th>\n",
              "      <td>Aguascalientes</td>\n",
              "      <td>2020-11</td>\n",
              "      <td>0.619214</td>\n",
              "      <td>7853</td>\n",
              "      <td>0.019806</td>\n",
              "      <td>4862.687542</td>\n",
              "      <td>0.963080</td>\n",
              "    </tr>\n",
              "  </tbody>\n",
              "</table>\n",
              "</div>"
            ],
            "text/plain": [
              "  region_where_applied survey_date_short  ...  amount_of_positive_answers   w_i_x_i\n",
              "0       Aguascalientes           2020-11  ...                 4405.280776  0.776718\n",
              "1       Aguascalientes           2020-11  ...                 4862.687542  0.963080\n",
              "\n",
              "[2 rows x 7 columns]"
            ]
          },
          "metadata": {},
          "execution_count": 537
        }
      ]
    },
    {
      "cell_type": "code",
      "metadata": {
        "colab": {
          "base_uri": "https://localhost:8080/"
        },
        "id": "jYM6zPF2n9Rt",
        "outputId": "f012b5ef-22d6-4610-801f-da2ec9aea293"
      },
      "source": [
        "sum_w_i_x_i=df_1_financial_corcern_02['w_i_x_i'].sum()\n",
        "media_ponderada=sum_w_i_x_i/sum_w_i\n",
        "\n",
        "print(f'El promedio ponderado de personas que se preocuparon por la situación financiera en México por día es de:{round(media_ponderada,0)}')"
      ],
      "execution_count": 538,
      "outputs": [
        {
          "output_type": "stream",
          "name": "stdout",
          "text": [
            "El promedio ponderado de personas que se preocuparon por la situación financiera en México por día es de:4085.0\n"
          ]
        }
      ]
    },
    {
      "cell_type": "markdown",
      "metadata": {
        "id": "3KDlO91HucYx"
      },
      "source": [
        "###### **Media truncada**"
      ]
    },
    {
      "cell_type": "code",
      "metadata": {
        "colab": {
          "base_uri": "https://localhost:8080/"
        },
        "id": "Ka9nCHOcpbx-",
        "outputId": "c570217c-cc65-42a6-d0d9-986ae506c8ea"
      },
      "source": [
        "media_truncada=stats.trim_mean(df_1_financial_corcern['amount_of_positive_answers'],.10)\n",
        "print(f'El promedio truncado de personas que se preocuparon por la situación financiera en México por día es de:{round(media_truncada,0)}')"
      ],
      "execution_count": 539,
      "outputs": [
        {
          "output_type": "stream",
          "name": "stdout",
          "text": [
            "El promedio truncado de personas que se preocuparon por la situación financiera en México por día es de:3301.0\n"
          ]
        }
      ]
    },
    {
      "cell_type": "markdown",
      "metadata": {
        "id": "4tyfQlsPukc_"
      },
      "source": [
        "###### **Mediana**"
      ]
    },
    {
      "cell_type": "code",
      "metadata": {
        "colab": {
          "base_uri": "https://localhost:8080/"
        },
        "id": "m2-fheJqurRx",
        "outputId": "ebac1490-cd90-43af-9073-02afa0ed855b"
      },
      "source": [
        "mediana=df_1_financial_corcern['amount_of_positive_answers'].median()\n",
        "print(f'La mediana de personas que se preocuparon por la situación financiera en México por día es de:{round(mediana,0)}')"
      ],
      "execution_count": 540,
      "outputs": [
        {
          "output_type": "stream",
          "name": "stdout",
          "text": [
            "La mediana de personas que se preocuparon por la situación financiera en México por día es de:3200.0\n"
          ]
        }
      ]
    },
    {
      "cell_type": "markdown",
      "metadata": {
        "id": "4O5PPs_yvBTZ"
      },
      "source": [
        "###### **Desviación estándar**"
      ]
    },
    {
      "cell_type": "code",
      "metadata": {
        "colab": {
          "base_uri": "https://localhost:8080/"
        },
        "id": "VtR-H1FdvM4B",
        "outputId": "ffaf34fd-32ae-4dc4-b40f-ff13230404a6"
      },
      "source": [
        "std=df_1_financial_corcern['amount_of_positive_answers'].std()\n",
        "print(f'La desviación estándar de personas que se preocuparon por la situación financiera en México por día es de:{round(std,0)}')"
      ],
      "execution_count": 541,
      "outputs": [
        {
          "output_type": "stream",
          "name": "stdout",
          "text": [
            "La desviación estándar de personas que se preocuparon por la situación financiera en México por día es de:1629.0\n"
          ]
        }
      ]
    },
    {
      "cell_type": "markdown",
      "metadata": {
        "id": "fFTCqkvmvnYl"
      },
      "source": [
        "###### **Rango**"
      ]
    },
    {
      "cell_type": "code",
      "metadata": {
        "colab": {
          "base_uri": "https://localhost:8080/"
        },
        "id": "2mDaoIxXvyCY",
        "outputId": "edd97657-8cbf-40d9-ca8a-70f6a5279ec2"
      },
      "source": [
        "rango=df_1_financial_corcern['amount_of_positive_answers'].max()-df_1_financial_corcern['amount_of_positive_answers'].min()\n",
        "print(f'El rango de personas que se preocuparon por la situación financiera en México por día es de:{round(rango,0)}')"
      ],
      "execution_count": 542,
      "outputs": [
        {
          "output_type": "stream",
          "name": "stdout",
          "text": [
            "El rango de personas que se preocuparon por la situación financiera en México por día es de:6923.0\n"
          ]
        }
      ]
    },
    {
      "cell_type": "markdown",
      "metadata": {
        "id": "gSJqe_qGwLmF"
      },
      "source": [
        "###### **Percentile 0.25**"
      ]
    },
    {
      "cell_type": "code",
      "metadata": {
        "colab": {
          "base_uri": "https://localhost:8080/"
        },
        "id": "3RpFt-jxwtX-",
        "outputId": "d52fa9fb-d29f-4558-f5ab-f7e43ae4e5d2"
      },
      "source": [
        "percentil_0_25=df_1_financial_corcern['amount_of_positive_answers'].quantile(0.25)\n",
        "print(f'El 25% de los días hubo un numero menor o igual a {round(percentil_0_25,0)} de personas que afirman estar preocupada por la situación financiera en todo el país')"
      ],
      "execution_count": 543,
      "outputs": [
        {
          "output_type": "stream",
          "name": "stdout",
          "text": [
            "El 25% de los días hubo un numero menor o igual a 1878.0 de personas que afirman estar preocupada por la situación financiera en todo el país\n"
          ]
        }
      ]
    },
    {
      "cell_type": "markdown",
      "metadata": {
        "id": "_SoTtfJCyMz9"
      },
      "source": [
        "###### **Percentile 0.75**"
      ]
    },
    {
      "cell_type": "code",
      "metadata": {
        "colab": {
          "base_uri": "https://localhost:8080/"
        },
        "id": "kKwNLL6zyS2X",
        "outputId": "b61c7b99-e80a-4d32-c8c2-157466f8b3a8"
      },
      "source": [
        "percentil_0_75=df_1_financial_corcern['amount_of_positive_answers'].quantile(0.75)\n",
        "print(f'El 75% de los días hubo un numero menor o igual a {round(percentil_0_75,0)} de personas que afirman estar preocupada por la situación financiera en todo el país')"
      ],
      "execution_count": 544,
      "outputs": [
        {
          "output_type": "stream",
          "name": "stdout",
          "text": [
            "El 75% de los días hubo un numero menor o igual a 4684.0 de personas que afirman estar preocupada por la situación financiera en todo el país\n"
          ]
        }
      ]
    },
    {
      "cell_type": "markdown",
      "metadata": {
        "id": "AG7tdyZiy6MV"
      },
      "source": [
        "###### **IQR**"
      ]
    },
    {
      "cell_type": "code",
      "metadata": {
        "colab": {
          "base_uri": "https://localhost:8080/"
        },
        "id": "QgL3k4OCzpo8",
        "outputId": "5ba0c96c-e99c-4772-80b1-944adfc12466"
      },
      "source": [
        "iqr=df_1_financial_corcern['amount_of_positive_answers'].quantile(0.75)-df_1_financial_corcern['amount_of_positive_answers'].quantile(0.25)\n",
        "print(f'El 50% de los días hubo un numero menor o igual a {round(percentil_0_75,0)} y mayor o igual a {round(percentil_0_25,0)} de personas que afirman estar preocupada por la situación financiera en todo el país')\n",
        "print(f'Nuestro IQR es de: {round(iqr,0)}')"
      ],
      "execution_count": 545,
      "outputs": [
        {
          "output_type": "stream",
          "name": "stdout",
          "text": [
            "El 50% de los días hubo un numero menor o igual a 4684.0 y mayor o igual a 1878.0 de personas que afirman estar preocupada por la situación financiera en todo el país\n",
            "Nuestro IQR es de: 2806.0\n"
          ]
        }
      ]
    },
    {
      "cell_type": "markdown",
      "metadata": {
        "id": "xommcP8K1tb4"
      },
      "source": [
        "##### **Accept_vaccine**"
      ]
    },
    {
      "cell_type": "markdown",
      "metadata": {
        "id": "6mKBZqxE1-r1"
      },
      "source": [
        "###### **Limpieza del df2**"
      ]
    },
    {
      "cell_type": "code",
      "metadata": {
        "colab": {
          "base_uri": "https://localhost:8080/",
          "height": 162
        },
        "id": "g942YQk72Ag5",
        "outputId": "67e7ca0a-a169-4a13-8355-ba2ca3da108f"
      },
      "source": [
        "df2_dropped.head(2) ## Revisamos la nueva configuración del df2"
      ],
      "execution_count": 546,
      "outputs": [
        {
          "output_type": "execute_result",
          "data": {
            "text/html": [
              "<div>\n",
              "<style scoped>\n",
              "    .dataframe tbody tr th:only-of-type {\n",
              "        vertical-align: middle;\n",
              "    }\n",
              "\n",
              "    .dataframe tbody tr th {\n",
              "        vertical-align: top;\n",
              "    }\n",
              "\n",
              "    .dataframe thead tr th {\n",
              "        text-align: left;\n",
              "    }\n",
              "</style>\n",
              "<table border=\"1\" class=\"dataframe\">\n",
              "  <thead>\n",
              "    <tr>\n",
              "      <th></th>\n",
              "      <th colspan=\"2\" halign=\"left\">survey_information</th>\n",
              "      <th></th>\n",
              "      <th colspan=\"2\" halign=\"left\">accept_vaccine</th>\n",
              "      <th colspan=\"2\" halign=\"left\">trust_family_recommendation</th>\n",
              "      <th colspan=\"2\" halign=\"left\">trust_healthcare_recommendation</th>\n",
              "      <th colspan=\"2\" halign=\"left\">trust_WHO_recommendation</th>\n",
              "      <th colspan=\"2\" halign=\"left\">trust_government_recommendation</th>\n",
              "    </tr>\n",
              "    <tr>\n",
              "      <th></th>\n",
              "      <th>region_where_applied</th>\n",
              "      <th>survey_date</th>\n",
              "      <th>survey_date_short</th>\n",
              "      <th>indicator_percentage</th>\n",
              "      <th>sample_size</th>\n",
              "      <th>indicator_percentage</th>\n",
              "      <th>sample_size</th>\n",
              "      <th>indicator_percentage</th>\n",
              "      <th>sample_size</th>\n",
              "      <th>indicator_percentage</th>\n",
              "      <th>sample_size</th>\n",
              "      <th>indicator_percentage</th>\n",
              "      <th>sample_size</th>\n",
              "    </tr>\n",
              "  </thead>\n",
              "  <tbody>\n",
              "    <tr>\n",
              "      <th>0</th>\n",
              "      <td>Aguascalientes</td>\n",
              "      <td>2020-12-21</td>\n",
              "      <td>2020-12</td>\n",
              "      <td>0.827023</td>\n",
              "      <td>9244</td>\n",
              "      <td>0.644872</td>\n",
              "      <td>3088</td>\n",
              "      <td>0.721161</td>\n",
              "      <td>3122</td>\n",
              "      <td>0.768438</td>\n",
              "      <td>3152</td>\n",
              "      <td>0.657455</td>\n",
              "      <td>2942</td>\n",
              "    </tr>\n",
              "    <tr>\n",
              "      <th>1</th>\n",
              "      <td>Aguascalientes</td>\n",
              "      <td>2020-12-22</td>\n",
              "      <td>2020-12</td>\n",
              "      <td>0.820356</td>\n",
              "      <td>9623</td>\n",
              "      <td>0.653233</td>\n",
              "      <td>8085</td>\n",
              "      <td>0.705194</td>\n",
              "      <td>8229</td>\n",
              "      <td>0.753498</td>\n",
              "      <td>8364</td>\n",
              "      <td>0.644496</td>\n",
              "      <td>7739</td>\n",
              "    </tr>\n",
              "  </tbody>\n",
              "</table>\n",
              "</div>"
            ],
            "text/plain": [
              "    survey_information              ... trust_government_recommendation            \n",
              "  region_where_applied survey_date  ...            indicator_percentage sample_size\n",
              "0       Aguascalientes  2020-12-21  ...                        0.657455        2942\n",
              "1       Aguascalientes  2020-12-22  ...                        0.644496        7739\n",
              "\n",
              "[2 rows x 13 columns]"
            ]
          },
          "metadata": {},
          "execution_count": 546
        }
      ]
    },
    {
      "cell_type": "code",
      "metadata": {
        "colab": {
          "base_uri": "https://localhost:8080/",
          "height": 131
        },
        "id": "z3awNqh_2OMu",
        "outputId": "5ea955cf-746a-4826-80cc-61a2c96cbab4"
      },
      "source": [
        "df2_columnas_sin_indexar=df2_dropped.copy() \n",
        "df2_columnas_sin_indexar.columns=df2_columnas_sin_indexar.columns.droplevel(0)\n",
        "df2_columnas_sin_indexar.head(2) #Aqui lo que se hace es crear un nuevo df pero sin multi-indice"
      ],
      "execution_count": 547,
      "outputs": [
        {
          "output_type": "execute_result",
          "data": {
            "text/html": [
              "<div>\n",
              "<style scoped>\n",
              "    .dataframe tbody tr th:only-of-type {\n",
              "        vertical-align: middle;\n",
              "    }\n",
              "\n",
              "    .dataframe tbody tr th {\n",
              "        vertical-align: top;\n",
              "    }\n",
              "\n",
              "    .dataframe thead th {\n",
              "        text-align: right;\n",
              "    }\n",
              "</style>\n",
              "<table border=\"1\" class=\"dataframe\">\n",
              "  <thead>\n",
              "    <tr style=\"text-align: right;\">\n",
              "      <th></th>\n",
              "      <th>region_where_applied</th>\n",
              "      <th>survey_date</th>\n",
              "      <th>survey_date_short</th>\n",
              "      <th>indicator_percentage</th>\n",
              "      <th>sample_size</th>\n",
              "      <th>indicator_percentage</th>\n",
              "      <th>sample_size</th>\n",
              "      <th>indicator_percentage</th>\n",
              "      <th>sample_size</th>\n",
              "      <th>indicator_percentage</th>\n",
              "      <th>sample_size</th>\n",
              "      <th>indicator_percentage</th>\n",
              "      <th>sample_size</th>\n",
              "    </tr>\n",
              "  </thead>\n",
              "  <tbody>\n",
              "    <tr>\n",
              "      <th>0</th>\n",
              "      <td>Aguascalientes</td>\n",
              "      <td>2020-12-21</td>\n",
              "      <td>2020-12</td>\n",
              "      <td>0.827023</td>\n",
              "      <td>9244</td>\n",
              "      <td>0.644872</td>\n",
              "      <td>3088</td>\n",
              "      <td>0.721161</td>\n",
              "      <td>3122</td>\n",
              "      <td>0.768438</td>\n",
              "      <td>3152</td>\n",
              "      <td>0.657455</td>\n",
              "      <td>2942</td>\n",
              "    </tr>\n",
              "    <tr>\n",
              "      <th>1</th>\n",
              "      <td>Aguascalientes</td>\n",
              "      <td>2020-12-22</td>\n",
              "      <td>2020-12</td>\n",
              "      <td>0.820356</td>\n",
              "      <td>9623</td>\n",
              "      <td>0.653233</td>\n",
              "      <td>8085</td>\n",
              "      <td>0.705194</td>\n",
              "      <td>8229</td>\n",
              "      <td>0.753498</td>\n",
              "      <td>8364</td>\n",
              "      <td>0.644496</td>\n",
              "      <td>7739</td>\n",
              "    </tr>\n",
              "  </tbody>\n",
              "</table>\n",
              "</div>"
            ],
            "text/plain": [
              "  region_where_applied survey_date  ... indicator_percentage  sample_size\n",
              "0       Aguascalientes  2020-12-21  ...             0.657455         2942\n",
              "1       Aguascalientes  2020-12-22  ...             0.644496         7739\n",
              "\n",
              "[2 rows x 13 columns]"
            ]
          },
          "metadata": {},
          "execution_count": 547
        }
      ]
    },
    {
      "cell_type": "code",
      "metadata": {
        "colab": {
          "base_uri": "https://localhost:8080/",
          "height": 111
        },
        "id": "1Ag2A2pb2hfw",
        "outputId": "2d7097d7-c3fd-4903-adb4-a6d15e0e63c5"
      },
      "source": [
        "df_2_accept_vaccine=df2_columnas_sin_indexar.iloc[:,[0,2,3,4]]\n",
        "df_2_accept_vaccine.head(2) ## Separamos las columnas que solo corresponden a accept_vaccine"
      ],
      "execution_count": 548,
      "outputs": [
        {
          "output_type": "execute_result",
          "data": {
            "text/html": [
              "<div>\n",
              "<style scoped>\n",
              "    .dataframe tbody tr th:only-of-type {\n",
              "        vertical-align: middle;\n",
              "    }\n",
              "\n",
              "    .dataframe tbody tr th {\n",
              "        vertical-align: top;\n",
              "    }\n",
              "\n",
              "    .dataframe thead th {\n",
              "        text-align: right;\n",
              "    }\n",
              "</style>\n",
              "<table border=\"1\" class=\"dataframe\">\n",
              "  <thead>\n",
              "    <tr style=\"text-align: right;\">\n",
              "      <th></th>\n",
              "      <th>region_where_applied</th>\n",
              "      <th>survey_date_short</th>\n",
              "      <th>indicator_percentage</th>\n",
              "      <th>sample_size</th>\n",
              "    </tr>\n",
              "  </thead>\n",
              "  <tbody>\n",
              "    <tr>\n",
              "      <th>0</th>\n",
              "      <td>Aguascalientes</td>\n",
              "      <td>2020-12</td>\n",
              "      <td>0.827023</td>\n",
              "      <td>9244</td>\n",
              "    </tr>\n",
              "    <tr>\n",
              "      <th>1</th>\n",
              "      <td>Aguascalientes</td>\n",
              "      <td>2020-12</td>\n",
              "      <td>0.820356</td>\n",
              "      <td>9623</td>\n",
              "    </tr>\n",
              "  </tbody>\n",
              "</table>\n",
              "</div>"
            ],
            "text/plain": [
              "  region_where_applied survey_date_short  indicator_percentage  sample_size\n",
              "0       Aguascalientes           2020-12              0.827023         9244\n",
              "1       Aguascalientes           2020-12              0.820356         9623"
            ]
          },
          "metadata": {},
          "execution_count": 548
        }
      ]
    },
    {
      "cell_type": "code",
      "metadata": {
        "colab": {
          "base_uri": "https://localhost:8080/",
          "height": 111
        },
        "id": "AOgbfJoi3Rig",
        "outputId": "c5a850bd-19a0-4202-8703-341879832c9c"
      },
      "source": [
        "amount_of_positive_answers=df_2_accept_vaccine.sample_size*df_2_accept_vaccine.indicator_percentage \n",
        "df_2_accept_vaccine.insert(4,'amount_of_positive_answers',amount_of_positive_answers)\n",
        "df_2_accept_vaccine.head(2) #Insertamos una tercera columna para poder hacer todo el analisis sobre la misma"
      ],
      "execution_count": 549,
      "outputs": [
        {
          "output_type": "execute_result",
          "data": {
            "text/html": [
              "<div>\n",
              "<style scoped>\n",
              "    .dataframe tbody tr th:only-of-type {\n",
              "        vertical-align: middle;\n",
              "    }\n",
              "\n",
              "    .dataframe tbody tr th {\n",
              "        vertical-align: top;\n",
              "    }\n",
              "\n",
              "    .dataframe thead th {\n",
              "        text-align: right;\n",
              "    }\n",
              "</style>\n",
              "<table border=\"1\" class=\"dataframe\">\n",
              "  <thead>\n",
              "    <tr style=\"text-align: right;\">\n",
              "      <th></th>\n",
              "      <th>region_where_applied</th>\n",
              "      <th>survey_date_short</th>\n",
              "      <th>indicator_percentage</th>\n",
              "      <th>sample_size</th>\n",
              "      <th>amount_of_positive_answers</th>\n",
              "    </tr>\n",
              "  </thead>\n",
              "  <tbody>\n",
              "    <tr>\n",
              "      <th>0</th>\n",
              "      <td>Aguascalientes</td>\n",
              "      <td>2020-12</td>\n",
              "      <td>0.827023</td>\n",
              "      <td>9244</td>\n",
              "      <td>7645.000612</td>\n",
              "    </tr>\n",
              "    <tr>\n",
              "      <th>1</th>\n",
              "      <td>Aguascalientes</td>\n",
              "      <td>2020-12</td>\n",
              "      <td>0.820356</td>\n",
              "      <td>9623</td>\n",
              "      <td>7894.285788</td>\n",
              "    </tr>\n",
              "  </tbody>\n",
              "</table>\n",
              "</div>"
            ],
            "text/plain": [
              "  region_where_applied  ... amount_of_positive_answers\n",
              "0       Aguascalientes  ...                7645.000612\n",
              "1       Aguascalientes  ...                7894.285788\n",
              "\n",
              "[2 rows x 5 columns]"
            ]
          },
          "metadata": {},
          "execution_count": 549
        }
      ]
    },
    {
      "cell_type": "markdown",
      "metadata": {
        "id": "6kZzF6Qe3-Rd"
      },
      "source": [
        "###### **Media**"
      ]
    },
    {
      "cell_type": "code",
      "metadata": {
        "colab": {
          "base_uri": "https://localhost:8080/"
        },
        "id": "leDXJClQ4B8W",
        "outputId": "fa94e6d6-aac2-409a-efe2-ad56916ddfcc"
      },
      "source": [
        "media_02=df_2_accept_vaccine['amount_of_positive_answers'].mean() #Media\n",
        "print(f'El promedio de personas que aceptaron la vacuna en México por día es de:{round(media_02,0)}')"
      ],
      "execution_count": 550,
      "outputs": [
        {
          "output_type": "stream",
          "name": "stdout",
          "text": [
            "El promedio de personas que aceptaron la vacuna en México por día es de:8379.0\n"
          ]
        }
      ]
    },
    {
      "cell_type": "markdown",
      "metadata": {
        "id": "-Vp6aEVc4RpX"
      },
      "source": [
        "###### **Media ponderada**"
      ]
    },
    {
      "cell_type": "code",
      "metadata": {
        "colab": {
          "base_uri": "https://localhost:8080/",
          "height": 0
        },
        "id": "V-d7P3se4Xoz",
        "outputId": "8e245efa-d162-4979-af07-46f6a4ea5c4b"
      },
      "source": [
        "Total_personas_entrevistadas=df_2_accept_vaccine['sample_size'].sum()\n",
        "weight_of_sample=(df_2_accept_vaccine['sample_size']*100)/Total_personas_entrevistadas\n",
        "df_2_accept_vaccine_02=df_2_accept_vaccine.copy() #Creamos un nuevo df para el calculo de la media ponderada\n",
        "df_2_accept_vaccine_02.insert(4,'weight_of_sample',weight_of_sample)\n",
        "df_2_accept_vaccine_02.head(2) #Aplicamos una regla de tres simple para obtener el peso de la muestra en relación del total de muestras"
      ],
      "execution_count": 551,
      "outputs": [
        {
          "output_type": "execute_result",
          "data": {
            "text/html": [
              "<div>\n",
              "<style scoped>\n",
              "    .dataframe tbody tr th:only-of-type {\n",
              "        vertical-align: middle;\n",
              "    }\n",
              "\n",
              "    .dataframe tbody tr th {\n",
              "        vertical-align: top;\n",
              "    }\n",
              "\n",
              "    .dataframe thead th {\n",
              "        text-align: right;\n",
              "    }\n",
              "</style>\n",
              "<table border=\"1\" class=\"dataframe\">\n",
              "  <thead>\n",
              "    <tr style=\"text-align: right;\">\n",
              "      <th></th>\n",
              "      <th>region_where_applied</th>\n",
              "      <th>survey_date_short</th>\n",
              "      <th>indicator_percentage</th>\n",
              "      <th>sample_size</th>\n",
              "      <th>weight_of_sample</th>\n",
              "      <th>amount_of_positive_answers</th>\n",
              "    </tr>\n",
              "  </thead>\n",
              "  <tbody>\n",
              "    <tr>\n",
              "      <th>0</th>\n",
              "      <td>Aguascalientes</td>\n",
              "      <td>2020-12</td>\n",
              "      <td>0.827023</td>\n",
              "      <td>9244</td>\n",
              "      <td>0.060054</td>\n",
              "      <td>7645.000612</td>\n",
              "    </tr>\n",
              "    <tr>\n",
              "      <th>1</th>\n",
              "      <td>Aguascalientes</td>\n",
              "      <td>2020-12</td>\n",
              "      <td>0.820356</td>\n",
              "      <td>9623</td>\n",
              "      <td>0.062516</td>\n",
              "      <td>7894.285788</td>\n",
              "    </tr>\n",
              "  </tbody>\n",
              "</table>\n",
              "</div>"
            ],
            "text/plain": [
              "  region_where_applied  ... amount_of_positive_answers\n",
              "0       Aguascalientes  ...                7645.000612\n",
              "1       Aguascalientes  ...                7894.285788\n",
              "\n",
              "[2 rows x 6 columns]"
            ]
          },
          "metadata": {},
          "execution_count": 551
        }
      ]
    },
    {
      "cell_type": "code",
      "metadata": {
        "colab": {
          "base_uri": "https://localhost:8080/",
          "height": 0
        },
        "id": "1qzC7Qfn5DII",
        "outputId": "97f8295a-4601-4dd2-e089-491f8657215c"
      },
      "source": [
        "# La formula de media ponderada es sumatorio(w_i*x_i)/sumatorio(w_i)\n",
        "# En nuestro caso w_i es el weight_of_sample y x_i es amount_of_positive_answer\n",
        "sum_w_i=(df_2_accept_vaccine_02['weight_of_sample'].sum())/100 #Se divide entre 100 ya que las cantidades estan en %\n",
        "w_i_x_i=(df_2_accept_vaccine_02['weight_of_sample']/100)*(df_2_accept_vaccine_02['amount_of_positive_answers'])\n",
        "df_2_accept_vaccine_02.insert(6,'w_i_x_i',w_i_x_i)\n",
        "df_2_accept_vaccine_02.head(2)"
      ],
      "execution_count": 552,
      "outputs": [
        {
          "output_type": "execute_result",
          "data": {
            "text/html": [
              "<div>\n",
              "<style scoped>\n",
              "    .dataframe tbody tr th:only-of-type {\n",
              "        vertical-align: middle;\n",
              "    }\n",
              "\n",
              "    .dataframe tbody tr th {\n",
              "        vertical-align: top;\n",
              "    }\n",
              "\n",
              "    .dataframe thead th {\n",
              "        text-align: right;\n",
              "    }\n",
              "</style>\n",
              "<table border=\"1\" class=\"dataframe\">\n",
              "  <thead>\n",
              "    <tr style=\"text-align: right;\">\n",
              "      <th></th>\n",
              "      <th>region_where_applied</th>\n",
              "      <th>survey_date_short</th>\n",
              "      <th>indicator_percentage</th>\n",
              "      <th>sample_size</th>\n",
              "      <th>weight_of_sample</th>\n",
              "      <th>amount_of_positive_answers</th>\n",
              "      <th>w_i_x_i</th>\n",
              "    </tr>\n",
              "  </thead>\n",
              "  <tbody>\n",
              "    <tr>\n",
              "      <th>0</th>\n",
              "      <td>Aguascalientes</td>\n",
              "      <td>2020-12</td>\n",
              "      <td>0.827023</td>\n",
              "      <td>9244</td>\n",
              "      <td>0.060054</td>\n",
              "      <td>7645.000612</td>\n",
              "      <td>4.591145</td>\n",
              "    </tr>\n",
              "    <tr>\n",
              "      <th>1</th>\n",
              "      <td>Aguascalientes</td>\n",
              "      <td>2020-12</td>\n",
              "      <td>0.820356</td>\n",
              "      <td>9623</td>\n",
              "      <td>0.062516</td>\n",
              "      <td>7894.285788</td>\n",
              "      <td>4.935224</td>\n",
              "    </tr>\n",
              "  </tbody>\n",
              "</table>\n",
              "</div>"
            ],
            "text/plain": [
              "  region_where_applied survey_date_short  ...  amount_of_positive_answers   w_i_x_i\n",
              "0       Aguascalientes           2020-12  ...                 7645.000612  4.591145\n",
              "1       Aguascalientes           2020-12  ...                 7894.285788  4.935224\n",
              "\n",
              "[2 rows x 7 columns]"
            ]
          },
          "metadata": {},
          "execution_count": 552
        }
      ]
    },
    {
      "cell_type": "code",
      "metadata": {
        "colab": {
          "base_uri": "https://localhost:8080/"
        },
        "id": "4fbZp4Ul5fBq",
        "outputId": "07485b32-2dfa-44b8-d2df-af5c09a9f5d7"
      },
      "source": [
        "sum_w_i_x_i=df_2_accept_vaccine_02['w_i_x_i'].sum()\n",
        "media_ponderada_02=sum_w_i_x_i/sum_w_i\n",
        "\n",
        "print(f'El promedio ponderado de personas que aceptan la vacuna en México por día es de:{round(media_ponderada_02,0)}')"
      ],
      "execution_count": 553,
      "outputs": [
        {
          "output_type": "stream",
          "name": "stdout",
          "text": [
            "El promedio ponderado de personas que aceptan la vacuna en México por día es de:8491.0\n"
          ]
        }
      ]
    },
    {
      "cell_type": "markdown",
      "metadata": {
        "id": "Dl5W9LZ_52u7"
      },
      "source": [
        "###### **Media truncada**"
      ]
    },
    {
      "cell_type": "code",
      "metadata": {
        "colab": {
          "base_uri": "https://localhost:8080/"
        },
        "id": "NuXEfPy058ga",
        "outputId": "6ab20a23-5600-4a30-b47b-23f7ff0dbff0"
      },
      "source": [
        "media_truncada_02=stats.trim_mean(df_2_accept_vaccine['amount_of_positive_answers'],.10)\n",
        "print(f'El promedio truncado de personas que aceptaron la vacuna en México por día es de:{round(media_truncada_02,0)}')"
      ],
      "execution_count": 554,
      "outputs": [
        {
          "output_type": "stream",
          "name": "stdout",
          "text": [
            "El promedio truncado de personas que aceptaron la vacuna en México por día es de:8431.0\n"
          ]
        }
      ]
    },
    {
      "cell_type": "markdown",
      "metadata": {
        "id": "TFHlA5fC6YwQ"
      },
      "source": [
        "###### **Mediana**"
      ]
    },
    {
      "cell_type": "code",
      "metadata": {
        "colab": {
          "base_uri": "https://localhost:8080/"
        },
        "id": "XjjsCzar6dT4",
        "outputId": "28197135-987f-481d-c8ce-4b6e666111a3"
      },
      "source": [
        "mediana_02=df_2_accept_vaccine['amount_of_positive_answers'].median()\n",
        "print(f'La mediana de personas que aceptaron la vacuna en México por día es de:{round(mediana_02,0)}')"
      ],
      "execution_count": 555,
      "outputs": [
        {
          "output_type": "stream",
          "name": "stdout",
          "text": [
            "La mediana de personas que aceptaron la vacuna en México por día es de:8741.0\n"
          ]
        }
      ]
    },
    {
      "cell_type": "markdown",
      "metadata": {
        "id": "bR685k5e6y8L"
      },
      "source": [
        "###### **Desviación estándar**"
      ]
    },
    {
      "cell_type": "code",
      "metadata": {
        "colab": {
          "base_uri": "https://localhost:8080/"
        },
        "id": "0PrM7LMW7AfC",
        "outputId": "9c85214b-e4de-4417-9ca2-159c05549189"
      },
      "source": [
        "std_02=df_2_accept_vaccine['amount_of_positive_answers'].std()\n",
        "print(f'La desviación estándar de personas que aceptaron la vacuna en México por día es de:{round(std_02,0)}')"
      ],
      "execution_count": 556,
      "outputs": [
        {
          "output_type": "stream",
          "name": "stdout",
          "text": [
            "La desviación estándar de personas que aceptaron la vacuna en México por día es de:963.0\n"
          ]
        }
      ]
    },
    {
      "cell_type": "markdown",
      "metadata": {
        "id": "Q-AsvBOq7al6"
      },
      "source": [
        "###### **Rango**"
      ]
    },
    {
      "cell_type": "code",
      "metadata": {
        "colab": {
          "base_uri": "https://localhost:8080/"
        },
        "id": "ZtHkQ2j27JxE",
        "outputId": "01a1c3fb-d933-4d39-b2c5-d8584ede1bfd"
      },
      "source": [
        "rango_02=df_2_accept_vaccine['amount_of_positive_answers'].max()-df_2_accept_vaccine['amount_of_positive_answers'].min()\n",
        "print(f'El rango de personas que aceptaron la vacuna en México por día es de:{round(rango_02,0)}')"
      ],
      "execution_count": 557,
      "outputs": [
        {
          "output_type": "stream",
          "name": "stdout",
          "text": [
            "El rango de personas que aceptaron la vacuna en México por día es de:4296.0\n"
          ]
        }
      ]
    },
    {
      "cell_type": "markdown",
      "metadata": {
        "id": "tJ5ddZU67h6d"
      },
      "source": [
        "###### **Percentile 0.25**"
      ]
    },
    {
      "cell_type": "code",
      "metadata": {
        "colab": {
          "base_uri": "https://localhost:8080/"
        },
        "id": "wtbfnUMm7oJb",
        "outputId": "105c357b-b712-4743-f95f-09887edcfbde"
      },
      "source": [
        "percentil_0_25_02=df_2_accept_vaccine['amount_of_positive_answers'].quantile(0.25)\n",
        "print(f'El 25% de los días hubo un numero menor o igual a {round(percentil_0_25_02,0)} de personas que afirman estar a favor de la vacuna en todo el país')"
      ],
      "execution_count": 558,
      "outputs": [
        {
          "output_type": "stream",
          "name": "stdout",
          "text": [
            "El 25% de los días hubo un numero menor o igual a 7525.0 de personas que afirman estar a favor de la vacuna en todo el país\n"
          ]
        }
      ]
    },
    {
      "cell_type": "markdown",
      "metadata": {
        "id": "3yZ739rs8G32"
      },
      "source": [
        "###### **Percentile 0.75**"
      ]
    },
    {
      "cell_type": "code",
      "metadata": {
        "colab": {
          "base_uri": "https://localhost:8080/"
        },
        "id": "sW1GhS-Y8Jiv",
        "outputId": "86aab223-94aa-4f89-b781-b2fe95bae1fe"
      },
      "source": [
        "percentil_0_75_02=df_2_accept_vaccine['amount_of_positive_answers'].quantile(0.75)\n",
        "print(f'El 75% de los días hubo un numero menor o igual a {round(percentil_0_75_02,0)} de personas que afirman estar a favor de la vacuna en todo el país')"
      ],
      "execution_count": 559,
      "outputs": [
        {
          "output_type": "stream",
          "name": "stdout",
          "text": [
            "El 75% de los días hubo un numero menor o igual a 9120.0 de personas que afirman estar a favor de la vacuna en todo el país\n"
          ]
        }
      ]
    },
    {
      "cell_type": "markdown",
      "metadata": {
        "id": "pIGJN_ms8hA2"
      },
      "source": [
        "###### **IQR**"
      ]
    },
    {
      "cell_type": "code",
      "metadata": {
        "colab": {
          "base_uri": "https://localhost:8080/"
        },
        "id": "ziiQhEaV8kWP",
        "outputId": "6e350401-30a4-4f91-b1cb-333991e48f04"
      },
      "source": [
        "iqr_02=df_2_accept_vaccine['amount_of_positive_answers'].quantile(0.75)-df_2_accept_vaccine['amount_of_positive_answers'].quantile(0.25)\n",
        "print(f'El 50% de los días hubo un numero menor o igual a {round(percentil_0_75_02,0)} y mayor o igual a {round(percentil_0_25_02,0)} de personas que afirman estar a favor de la vacuna en todo el país')\n",
        "print(f'Nuestro IQR es de: {round(iqr_02,0)}')"
      ],
      "execution_count": 560,
      "outputs": [
        {
          "output_type": "stream",
          "name": "stdout",
          "text": [
            "El 50% de los días hubo un numero menor o igual a 9120.0 y mayor o igual a 7525.0 de personas que afirman estar a favor de la vacuna en todo el país\n",
            "Nuestro IQR es de: 1595.0\n"
          ]
        }
      ]
    },
    {
      "cell_type": "markdown",
      "metadata": {
        "id": "qgco12by9MON"
      },
      "source": [
        "##### **Barrier_side_effects**"
      ]
    },
    {
      "cell_type": "markdown",
      "metadata": {
        "id": "rOFFI24l9fT2"
      },
      "source": [
        "###### **Limpieza del df3**"
      ]
    },
    {
      "cell_type": "code",
      "metadata": {
        "colab": {
          "base_uri": "https://localhost:8080/",
          "height": 0
        },
        "id": "zE_XGm4y9m5I",
        "outputId": "dd68a444-3ab6-4842-a567-a5a53c23fb1e"
      },
      "source": [
        "df3.head(2) ## Revisamos la nueva configuración del df3"
      ],
      "execution_count": 561,
      "outputs": [
        {
          "output_type": "execute_result",
          "data": {
            "text/html": [
              "<div>\n",
              "<style scoped>\n",
              "    .dataframe tbody tr th:only-of-type {\n",
              "        vertical-align: middle;\n",
              "    }\n",
              "\n",
              "    .dataframe tbody tr th {\n",
              "        vertical-align: top;\n",
              "    }\n",
              "\n",
              "    .dataframe thead tr th {\n",
              "        text-align: left;\n",
              "    }\n",
              "</style>\n",
              "<table border=\"1\" class=\"dataframe\">\n",
              "  <thead>\n",
              "    <tr>\n",
              "      <th></th>\n",
              "      <th colspan=\"2\" halign=\"left\">survey_information</th>\n",
              "      <th></th>\n",
              "      <th colspan=\"2\" halign=\"left\">partially_vaccinated</th>\n",
              "      <th colspan=\"2\" halign=\"left\">fully_vaccinated</th>\n",
              "      <th colspan=\"2\" halign=\"left\">barrier_side_effects</th>\n",
              "      <th colspan=\"2\" halign=\"left\">barrier_dont_need_already_had</th>\n",
              "      <th colspan=\"2\" halign=\"left\">barrier_dont_need_not_beneficial</th>\n",
              "      <th colspan=\"2\" halign=\"left\">barrier_dont_believe</th>\n",
              "      <th colspan=\"2\" halign=\"left\">barrier_dont_like_vaccines</th>\n",
              "      <th colspan=\"2\" halign=\"left\">barrier_dont_trust_government</th>\n",
              "    </tr>\n",
              "    <tr>\n",
              "      <th></th>\n",
              "      <th>region_where_applied</th>\n",
              "      <th>survey_date</th>\n",
              "      <th>survey_date_short</th>\n",
              "      <th>indicator_percentage</th>\n",
              "      <th>sample_size</th>\n",
              "      <th>indicator_percentage</th>\n",
              "      <th>sample_size</th>\n",
              "      <th>indicator_percentage</th>\n",
              "      <th>sample_size</th>\n",
              "      <th>indicator_percentage</th>\n",
              "      <th>sample_size</th>\n",
              "      <th>indicator_percentage</th>\n",
              "      <th>sample_size</th>\n",
              "      <th>indicator_percentage</th>\n",
              "      <th>sample_size</th>\n",
              "      <th>indicator_percentage</th>\n",
              "      <th>sample_size</th>\n",
              "      <th>indicator_percentage</th>\n",
              "      <th>sample_size</th>\n",
              "    </tr>\n",
              "  </thead>\n",
              "  <tbody>\n",
              "    <tr>\n",
              "      <th>0</th>\n",
              "      <td>Aguascalientes</td>\n",
              "      <td>2021-02-06</td>\n",
              "      <td>2021-2</td>\n",
              "      <td>0.018895</td>\n",
              "      <td>8164</td>\n",
              "      <td>0.123849</td>\n",
              "      <td>196</td>\n",
              "      <td>0.573751</td>\n",
              "      <td>2551</td>\n",
              "      <td>0.139143</td>\n",
              "      <td>116</td>\n",
              "      <td>0.244192</td>\n",
              "      <td>116</td>\n",
              "      <td>0.050306</td>\n",
              "      <td>2551</td>\n",
              "      <td>0.054113</td>\n",
              "      <td>2551</td>\n",
              "      <td>0.0</td>\n",
              "      <td>2551</td>\n",
              "    </tr>\n",
              "    <tr>\n",
              "      <th>1</th>\n",
              "      <td>Aguascalientes</td>\n",
              "      <td>2021-02-07</td>\n",
              "      <td>2021-2</td>\n",
              "      <td>0.022152</td>\n",
              "      <td>8249</td>\n",
              "      <td>0.154368</td>\n",
              "      <td>202</td>\n",
              "      <td>0.570975</td>\n",
              "      <td>2437</td>\n",
              "      <td>0.205662</td>\n",
              "      <td>106</td>\n",
              "      <td>0.132152</td>\n",
              "      <td>106</td>\n",
              "      <td>0.049256</td>\n",
              "      <td>2437</td>\n",
              "      <td>0.067466</td>\n",
              "      <td>2437</td>\n",
              "      <td>0.0</td>\n",
              "      <td>2437</td>\n",
              "    </tr>\n",
              "  </tbody>\n",
              "</table>\n",
              "</div>"
            ],
            "text/plain": [
              "    survey_information              ... barrier_dont_trust_government            \n",
              "  region_where_applied survey_date  ...          indicator_percentage sample_size\n",
              "0       Aguascalientes  2021-02-06  ...                           0.0        2551\n",
              "1       Aguascalientes  2021-02-07  ...                           0.0        2437\n",
              "\n",
              "[2 rows x 19 columns]"
            ]
          },
          "metadata": {},
          "execution_count": 561
        }
      ]
    },
    {
      "cell_type": "code",
      "metadata": {
        "colab": {
          "base_uri": "https://localhost:8080/",
          "height": 0
        },
        "id": "T_YK45mw98BV",
        "outputId": "abac2812-836c-40bb-c92a-3bf0be1fb384"
      },
      "source": [
        "df3_columnas_sin_indexar=df3.copy() \n",
        "df3_columnas_sin_indexar.columns=df3_columnas_sin_indexar.columns.droplevel(0)\n",
        "df3_columnas_sin_indexar.head(2) #Aqui lo que se hace es crear un nuevo df pero sin multi-indice"
      ],
      "execution_count": 562,
      "outputs": [
        {
          "output_type": "execute_result",
          "data": {
            "text/html": [
              "<div>\n",
              "<style scoped>\n",
              "    .dataframe tbody tr th:only-of-type {\n",
              "        vertical-align: middle;\n",
              "    }\n",
              "\n",
              "    .dataframe tbody tr th {\n",
              "        vertical-align: top;\n",
              "    }\n",
              "\n",
              "    .dataframe thead th {\n",
              "        text-align: right;\n",
              "    }\n",
              "</style>\n",
              "<table border=\"1\" class=\"dataframe\">\n",
              "  <thead>\n",
              "    <tr style=\"text-align: right;\">\n",
              "      <th></th>\n",
              "      <th>region_where_applied</th>\n",
              "      <th>survey_date</th>\n",
              "      <th>survey_date_short</th>\n",
              "      <th>indicator_percentage</th>\n",
              "      <th>sample_size</th>\n",
              "      <th>indicator_percentage</th>\n",
              "      <th>sample_size</th>\n",
              "      <th>indicator_percentage</th>\n",
              "      <th>sample_size</th>\n",
              "      <th>indicator_percentage</th>\n",
              "      <th>sample_size</th>\n",
              "      <th>indicator_percentage</th>\n",
              "      <th>sample_size</th>\n",
              "      <th>indicator_percentage</th>\n",
              "      <th>sample_size</th>\n",
              "      <th>indicator_percentage</th>\n",
              "      <th>sample_size</th>\n",
              "      <th>indicator_percentage</th>\n",
              "      <th>sample_size</th>\n",
              "    </tr>\n",
              "  </thead>\n",
              "  <tbody>\n",
              "    <tr>\n",
              "      <th>0</th>\n",
              "      <td>Aguascalientes</td>\n",
              "      <td>2021-02-06</td>\n",
              "      <td>2021-2</td>\n",
              "      <td>0.018895</td>\n",
              "      <td>8164</td>\n",
              "      <td>0.123849</td>\n",
              "      <td>196</td>\n",
              "      <td>0.573751</td>\n",
              "      <td>2551</td>\n",
              "      <td>0.139143</td>\n",
              "      <td>116</td>\n",
              "      <td>0.244192</td>\n",
              "      <td>116</td>\n",
              "      <td>0.050306</td>\n",
              "      <td>2551</td>\n",
              "      <td>0.054113</td>\n",
              "      <td>2551</td>\n",
              "      <td>0.0</td>\n",
              "      <td>2551</td>\n",
              "    </tr>\n",
              "    <tr>\n",
              "      <th>1</th>\n",
              "      <td>Aguascalientes</td>\n",
              "      <td>2021-02-07</td>\n",
              "      <td>2021-2</td>\n",
              "      <td>0.022152</td>\n",
              "      <td>8249</td>\n",
              "      <td>0.154368</td>\n",
              "      <td>202</td>\n",
              "      <td>0.570975</td>\n",
              "      <td>2437</td>\n",
              "      <td>0.205662</td>\n",
              "      <td>106</td>\n",
              "      <td>0.132152</td>\n",
              "      <td>106</td>\n",
              "      <td>0.049256</td>\n",
              "      <td>2437</td>\n",
              "      <td>0.067466</td>\n",
              "      <td>2437</td>\n",
              "      <td>0.0</td>\n",
              "      <td>2437</td>\n",
              "    </tr>\n",
              "  </tbody>\n",
              "</table>\n",
              "</div>"
            ],
            "text/plain": [
              "  region_where_applied survey_date  ... indicator_percentage  sample_size\n",
              "0       Aguascalientes  2021-02-06  ...                  0.0         2551\n",
              "1       Aguascalientes  2021-02-07  ...                  0.0         2437\n",
              "\n",
              "[2 rows x 19 columns]"
            ]
          },
          "metadata": {},
          "execution_count": 562
        }
      ]
    },
    {
      "cell_type": "code",
      "metadata": {
        "colab": {
          "base_uri": "https://localhost:8080/",
          "height": 0
        },
        "id": "B7dP6zbn-IRC",
        "outputId": "390b4bea-4ea1-46b6-e5ac-5bc6a63b92d9"
      },
      "source": [
        "df_3_barrier_side_effects=df3_columnas_sin_indexar.iloc[:,[0,2,7,8]]\n",
        "df_3_barrier_side_effects.head(2) ## Separamos las columnas que solo corresponden a barrier_side_effects"
      ],
      "execution_count": 563,
      "outputs": [
        {
          "output_type": "execute_result",
          "data": {
            "text/html": [
              "<div>\n",
              "<style scoped>\n",
              "    .dataframe tbody tr th:only-of-type {\n",
              "        vertical-align: middle;\n",
              "    }\n",
              "\n",
              "    .dataframe tbody tr th {\n",
              "        vertical-align: top;\n",
              "    }\n",
              "\n",
              "    .dataframe thead th {\n",
              "        text-align: right;\n",
              "    }\n",
              "</style>\n",
              "<table border=\"1\" class=\"dataframe\">\n",
              "  <thead>\n",
              "    <tr style=\"text-align: right;\">\n",
              "      <th></th>\n",
              "      <th>region_where_applied</th>\n",
              "      <th>survey_date_short</th>\n",
              "      <th>indicator_percentage</th>\n",
              "      <th>sample_size</th>\n",
              "    </tr>\n",
              "  </thead>\n",
              "  <tbody>\n",
              "    <tr>\n",
              "      <th>0</th>\n",
              "      <td>Aguascalientes</td>\n",
              "      <td>2021-2</td>\n",
              "      <td>0.573751</td>\n",
              "      <td>2551</td>\n",
              "    </tr>\n",
              "    <tr>\n",
              "      <th>1</th>\n",
              "      <td>Aguascalientes</td>\n",
              "      <td>2021-2</td>\n",
              "      <td>0.570975</td>\n",
              "      <td>2437</td>\n",
              "    </tr>\n",
              "  </tbody>\n",
              "</table>\n",
              "</div>"
            ],
            "text/plain": [
              "  region_where_applied survey_date_short  indicator_percentage  sample_size\n",
              "0       Aguascalientes            2021-2              0.573751         2551\n",
              "1       Aguascalientes            2021-2              0.570975         2437"
            ]
          },
          "metadata": {},
          "execution_count": 563
        }
      ]
    },
    {
      "cell_type": "code",
      "metadata": {
        "colab": {
          "base_uri": "https://localhost:8080/",
          "height": 0
        },
        "id": "dMxo4tT2-uQp",
        "outputId": "d3e85d20-2cf6-4550-80e3-7170b973cc21"
      },
      "source": [
        "amount_of_positive_answers=df_3_barrier_side_effects.sample_size*df_3_barrier_side_effects.indicator_percentage \n",
        "df_3_barrier_side_effects.insert(4,'amount_of_positive_answers',amount_of_positive_answers)\n",
        "df_3_barrier_side_effects.head(2) #Insertamos una tercera columna para poder hacer todo el analisis sobre la misma"
      ],
      "execution_count": 564,
      "outputs": [
        {
          "output_type": "execute_result",
          "data": {
            "text/html": [
              "<div>\n",
              "<style scoped>\n",
              "    .dataframe tbody tr th:only-of-type {\n",
              "        vertical-align: middle;\n",
              "    }\n",
              "\n",
              "    .dataframe tbody tr th {\n",
              "        vertical-align: top;\n",
              "    }\n",
              "\n",
              "    .dataframe thead th {\n",
              "        text-align: right;\n",
              "    }\n",
              "</style>\n",
              "<table border=\"1\" class=\"dataframe\">\n",
              "  <thead>\n",
              "    <tr style=\"text-align: right;\">\n",
              "      <th></th>\n",
              "      <th>region_where_applied</th>\n",
              "      <th>survey_date_short</th>\n",
              "      <th>indicator_percentage</th>\n",
              "      <th>sample_size</th>\n",
              "      <th>amount_of_positive_answers</th>\n",
              "    </tr>\n",
              "  </thead>\n",
              "  <tbody>\n",
              "    <tr>\n",
              "      <th>0</th>\n",
              "      <td>Aguascalientes</td>\n",
              "      <td>2021-2</td>\n",
              "      <td>0.573751</td>\n",
              "      <td>2551</td>\n",
              "      <td>1463.638801</td>\n",
              "    </tr>\n",
              "    <tr>\n",
              "      <th>1</th>\n",
              "      <td>Aguascalientes</td>\n",
              "      <td>2021-2</td>\n",
              "      <td>0.570975</td>\n",
              "      <td>2437</td>\n",
              "      <td>1391.466075</td>\n",
              "    </tr>\n",
              "  </tbody>\n",
              "</table>\n",
              "</div>"
            ],
            "text/plain": [
              "  region_where_applied  ... amount_of_positive_answers\n",
              "0       Aguascalientes  ...                1463.638801\n",
              "1       Aguascalientes  ...                1391.466075\n",
              "\n",
              "[2 rows x 5 columns]"
            ]
          },
          "metadata": {},
          "execution_count": 564
        }
      ]
    },
    {
      "cell_type": "markdown",
      "metadata": {
        "id": "VcK_BYtO_Fva"
      },
      "source": [
        "###### **Media**"
      ]
    },
    {
      "cell_type": "code",
      "metadata": {
        "colab": {
          "base_uri": "https://localhost:8080/"
        },
        "id": "5OW1MMoG_JtJ",
        "outputId": "187d7a16-5099-480a-c7ff-9aee52dd939b"
      },
      "source": [
        "media_03=df_3_barrier_side_effects['amount_of_positive_answers'].mean() #Media\n",
        "print(f'El promedio de personas que no aceptaron la vacuna debido a sus efectos secundarios en México por día es de:{round(media_03,0)}')"
      ],
      "execution_count": 565,
      "outputs": [
        {
          "output_type": "stream",
          "name": "stdout",
          "text": [
            "El promedio de personas que no aceptaron la vacuna debido a sus efectos secundarios en México por día es de:1115.0\n"
          ]
        }
      ]
    },
    {
      "cell_type": "markdown",
      "metadata": {
        "id": "xg2I4fgQ_hZP"
      },
      "source": [
        "###### **Media ponderada**"
      ]
    },
    {
      "cell_type": "code",
      "metadata": {
        "colab": {
          "base_uri": "https://localhost:8080/",
          "height": 0
        },
        "id": "6Ld4o-BA_kU2",
        "outputId": "934617bf-bc62-4611-9179-28b5e2e94bfc"
      },
      "source": [
        "Total_personas_entrevistadas=df_3_barrier_side_effects['sample_size'].sum()\n",
        "weight_of_sample=(df_3_barrier_side_effects['sample_size']*100)/Total_personas_entrevistadas\n",
        "df_3_barrier_side_effects_02=df_3_barrier_side_effects.copy() #Creamos un nuevo df para el calculo de la media ponderada\n",
        "df_3_barrier_side_effects_02.insert(4,'weight_of_sample',weight_of_sample)\n",
        "df_3_barrier_side_effects_02.head(2) #Aplicamos una regla de tres simple para obtener el peso de la muestra en relación del total de muestras"
      ],
      "execution_count": 566,
      "outputs": [
        {
          "output_type": "execute_result",
          "data": {
            "text/html": [
              "<div>\n",
              "<style scoped>\n",
              "    .dataframe tbody tr th:only-of-type {\n",
              "        vertical-align: middle;\n",
              "    }\n",
              "\n",
              "    .dataframe tbody tr th {\n",
              "        vertical-align: top;\n",
              "    }\n",
              "\n",
              "    .dataframe thead th {\n",
              "        text-align: right;\n",
              "    }\n",
              "</style>\n",
              "<table border=\"1\" class=\"dataframe\">\n",
              "  <thead>\n",
              "    <tr style=\"text-align: right;\">\n",
              "      <th></th>\n",
              "      <th>region_where_applied</th>\n",
              "      <th>survey_date_short</th>\n",
              "      <th>indicator_percentage</th>\n",
              "      <th>sample_size</th>\n",
              "      <th>weight_of_sample</th>\n",
              "      <th>amount_of_positive_answers</th>\n",
              "    </tr>\n",
              "  </thead>\n",
              "  <tbody>\n",
              "    <tr>\n",
              "      <th>0</th>\n",
              "      <td>Aguascalientes</td>\n",
              "      <td>2021-2</td>\n",
              "      <td>0.573751</td>\n",
              "      <td>2551</td>\n",
              "      <td>0.066604</td>\n",
              "      <td>1463.638801</td>\n",
              "    </tr>\n",
              "    <tr>\n",
              "      <th>1</th>\n",
              "      <td>Aguascalientes</td>\n",
              "      <td>2021-2</td>\n",
              "      <td>0.570975</td>\n",
              "      <td>2437</td>\n",
              "      <td>0.063628</td>\n",
              "      <td>1391.466075</td>\n",
              "    </tr>\n",
              "  </tbody>\n",
              "</table>\n",
              "</div>"
            ],
            "text/plain": [
              "  region_where_applied  ... amount_of_positive_answers\n",
              "0       Aguascalientes  ...                1463.638801\n",
              "1       Aguascalientes  ...                1391.466075\n",
              "\n",
              "[2 rows x 6 columns]"
            ]
          },
          "metadata": {},
          "execution_count": 566
        }
      ]
    },
    {
      "cell_type": "code",
      "metadata": {
        "colab": {
          "base_uri": "https://localhost:8080/",
          "height": 0
        },
        "id": "7vhTpVVb_7Pi",
        "outputId": "64d9cfc1-2257-457d-d627-6c4a7d9d4cdb"
      },
      "source": [
        "# La formula de media ponderada es sumatorio(w_i*x_i)/sumatorio(w_i)\n",
        "# En nuestro caso w_i es el weight_of_sample y x_i es amount_of_positive_answer\n",
        "sum_w_i=(df_3_barrier_side_effects_02['weight_of_sample'].sum())/100 #Se divide entre 100 ya que las cantidades estan en %\n",
        "w_i_x_i=(df_3_barrier_side_effects_02['weight_of_sample']/100)*(df_3_barrier_side_effects_02['amount_of_positive_answers'])\n",
        "df_3_barrier_side_effects_02.insert(6,'w_i_x_i',w_i_x_i)\n",
        "df_3_barrier_side_effects_02.head(2)"
      ],
      "execution_count": 567,
      "outputs": [
        {
          "output_type": "execute_result",
          "data": {
            "text/html": [
              "<div>\n",
              "<style scoped>\n",
              "    .dataframe tbody tr th:only-of-type {\n",
              "        vertical-align: middle;\n",
              "    }\n",
              "\n",
              "    .dataframe tbody tr th {\n",
              "        vertical-align: top;\n",
              "    }\n",
              "\n",
              "    .dataframe thead th {\n",
              "        text-align: right;\n",
              "    }\n",
              "</style>\n",
              "<table border=\"1\" class=\"dataframe\">\n",
              "  <thead>\n",
              "    <tr style=\"text-align: right;\">\n",
              "      <th></th>\n",
              "      <th>region_where_applied</th>\n",
              "      <th>survey_date_short</th>\n",
              "      <th>indicator_percentage</th>\n",
              "      <th>sample_size</th>\n",
              "      <th>weight_of_sample</th>\n",
              "      <th>amount_of_positive_answers</th>\n",
              "      <th>w_i_x_i</th>\n",
              "    </tr>\n",
              "  </thead>\n",
              "  <tbody>\n",
              "    <tr>\n",
              "      <th>0</th>\n",
              "      <td>Aguascalientes</td>\n",
              "      <td>2021-2</td>\n",
              "      <td>0.573751</td>\n",
              "      <td>2551</td>\n",
              "      <td>0.066604</td>\n",
              "      <td>1463.638801</td>\n",
              "      <td>0.974847</td>\n",
              "    </tr>\n",
              "    <tr>\n",
              "      <th>1</th>\n",
              "      <td>Aguascalientes</td>\n",
              "      <td>2021-2</td>\n",
              "      <td>0.570975</td>\n",
              "      <td>2437</td>\n",
              "      <td>0.063628</td>\n",
              "      <td>1391.466075</td>\n",
              "      <td>0.885361</td>\n",
              "    </tr>\n",
              "  </tbody>\n",
              "</table>\n",
              "</div>"
            ],
            "text/plain": [
              "  region_where_applied survey_date_short  ...  amount_of_positive_answers   w_i_x_i\n",
              "0       Aguascalientes            2021-2  ...                 1463.638801  0.974847\n",
              "1       Aguascalientes            2021-2  ...                 1391.466075  0.885361\n",
              "\n",
              "[2 rows x 7 columns]"
            ]
          },
          "metadata": {},
          "execution_count": 567
        }
      ]
    },
    {
      "cell_type": "code",
      "metadata": {
        "colab": {
          "base_uri": "https://localhost:8080/"
        },
        "id": "lhKPprFuAL7m",
        "outputId": "e168c327-9610-447d-b39f-8c4b392f0fb5"
      },
      "source": [
        "sum_w_i_x_i=df_3_barrier_side_effects_02['w_i_x_i'].sum()\n",
        "media_ponderada_03=sum_w_i_x_i/sum_w_i\n",
        "\n",
        "print(f'El promedio ponderado de personas que no aceptaron la vacuna debido a sus efectos secundarios en México por día es de:{round(media_ponderada_03,0)}')"
      ],
      "execution_count": 568,
      "outputs": [
        {
          "output_type": "stream",
          "name": "stdout",
          "text": [
            "El promedio ponderado de personas que no aceptaron la vacuna debido a sus efectos secundarios en México por día es de:1181.0\n"
          ]
        }
      ]
    },
    {
      "cell_type": "markdown",
      "metadata": {
        "id": "YlocuW4nAq1V"
      },
      "source": [
        "###### **Media truncada**"
      ]
    },
    {
      "cell_type": "code",
      "metadata": {
        "colab": {
          "base_uri": "https://localhost:8080/"
        },
        "id": "auExVmJ1A3B1",
        "outputId": "eab08fcd-9181-45ba-9c17-bf31c5b799fa"
      },
      "source": [
        "media_truncada_03=stats.trim_mean(df_3_barrier_side_effects['amount_of_positive_answers'],.10) \n",
        "print(f'El promedio truncado de personas que no aceptaron la vacuna debido a sus efectos secundarios en México por día es de:{round(media_truncada_03,0)}')"
      ],
      "execution_count": 569,
      "outputs": [
        {
          "output_type": "stream",
          "name": "stdout",
          "text": [
            "El promedio truncado de personas que no aceptaron la vacuna debido a sus efectos secundarios en México por día es de:1105.0\n"
          ]
        }
      ]
    },
    {
      "cell_type": "markdown",
      "metadata": {
        "id": "t4vjfqvmBfD2"
      },
      "source": [
        "###### **Mediana**"
      ]
    },
    {
      "cell_type": "code",
      "metadata": {
        "colab": {
          "base_uri": "https://localhost:8080/"
        },
        "id": "w6pGjY3rBfo1",
        "outputId": "cb583c61-b233-476c-ac98-5a406eb2b35f"
      },
      "source": [
        "mediana_03=df_3_barrier_side_effects['amount_of_positive_answers'].median()\n",
        "print(f'La mediana de personas que no aceptaron la vacuna debido a sus efectos secundarios en México por día es de:{round(mediana_03,0)}')"
      ],
      "execution_count": 570,
      "outputs": [
        {
          "output_type": "stream",
          "name": "stdout",
          "text": [
            "La mediana de personas que no aceptaron la vacuna debido a sus efectos secundarios en México por día es de:1083.0\n"
          ]
        }
      ]
    },
    {
      "cell_type": "markdown",
      "metadata": {
        "id": "KferkoNbB-Qa"
      },
      "source": [
        "###### **Desviación estándar**"
      ]
    },
    {
      "cell_type": "code",
      "metadata": {
        "colab": {
          "base_uri": "https://localhost:8080/"
        },
        "id": "2GcpOeDMCCeO",
        "outputId": "b290f64c-96c1-4774-dcf5-e48ed5365cfe"
      },
      "source": [
        "std_03=df_3_barrier_side_effects['amount_of_positive_answers'].std()\n",
        "print(f'La desviación estándar de personas que no aceptaron la vacuna debido a sus efectos secundarios en México por día es de:{round(std_03,0)}')"
      ],
      "execution_count": 571,
      "outputs": [
        {
          "output_type": "stream",
          "name": "stdout",
          "text": [
            "La desviación estándar de personas que no aceptaron la vacuna debido a sus efectos secundarios en México por día es de:285.0\n"
          ]
        }
      ]
    },
    {
      "cell_type": "markdown",
      "metadata": {
        "id": "_9lse1TSCUh0"
      },
      "source": [
        "###### **Rango**"
      ]
    },
    {
      "cell_type": "code",
      "metadata": {
        "colab": {
          "base_uri": "https://localhost:8080/"
        },
        "id": "IPNHAyx3CZoZ",
        "outputId": "e9f97b7d-baec-4d9e-9333-51b61156342a"
      },
      "source": [
        "rango_03=df_3_barrier_side_effects['amount_of_positive_answers'].max()-df_3_barrier_side_effects['amount_of_positive_answers'].min()\n",
        "print(f'El rango de personas que no aceptaron la vacuna debido a sus efectos secundarios en México por día es de:{round(rango_03,0)}')"
      ],
      "execution_count": 572,
      "outputs": [
        {
          "output_type": "stream",
          "name": "stdout",
          "text": [
            "El rango de personas que no aceptaron la vacuna debido a sus efectos secundarios en México por día es de:1587.0\n"
          ]
        }
      ]
    },
    {
      "cell_type": "markdown",
      "metadata": {
        "id": "mdbvKwJ5CwnH"
      },
      "source": [
        "###### **Percentile 0.25**"
      ]
    },
    {
      "cell_type": "code",
      "metadata": {
        "colab": {
          "base_uri": "https://localhost:8080/"
        },
        "id": "nfttNTh6C3Lw",
        "outputId": "876c2f82-620f-4c27-acc3-6cbbe9a5fef1"
      },
      "source": [
        "percentil_0_25_03=df_3_barrier_side_effects['amount_of_positive_answers'].quantile(0.25)\n",
        "print(f'El 25% de los días hubo un numero menor o igual a {round(percentil_0_25_03,0)} de personas que afirman estar en contra de la vacuna debido a sus efectos secundarios en todo el país')"
      ],
      "execution_count": 573,
      "outputs": [
        {
          "output_type": "stream",
          "name": "stdout",
          "text": [
            "El 25% de los días hubo un numero menor o igual a 911.0 de personas que afirman estar en contra de la vacuna debido a sus efectos secundarios en todo el país\n"
          ]
        }
      ]
    },
    {
      "cell_type": "markdown",
      "metadata": {
        "id": "Lo8Y8n0oDKH_"
      },
      "source": [
        "###### **Percentile 0.75**"
      ]
    },
    {
      "cell_type": "code",
      "metadata": {
        "colab": {
          "base_uri": "https://localhost:8080/"
        },
        "id": "Az_b6tT_DMyk",
        "outputId": "b92de6df-0acc-437c-8fd5-b044aca8f665"
      },
      "source": [
        "percentil_0_75_03=df_3_barrier_side_effects['amount_of_positive_answers'].quantile(0.75)\n",
        "print(f'El 75% de los días hubo un numero menor o igual a {round(percentil_0_75_03,0)} de personas que afirman estar en contra de la vacuna debido a sus efectos secundarios en todo el país')"
      ],
      "execution_count": 574,
      "outputs": [
        {
          "output_type": "stream",
          "name": "stdout",
          "text": [
            "El 75% de los días hubo un numero menor o igual a 1327.0 de personas que afirman estar en contra de la vacuna debido a sus efectos secundarios en todo el país\n"
          ]
        }
      ]
    },
    {
      "cell_type": "markdown",
      "metadata": {
        "id": "J3YqhNmFDczi"
      },
      "source": [
        "###### **IQR**"
      ]
    },
    {
      "cell_type": "code",
      "metadata": {
        "colab": {
          "base_uri": "https://localhost:8080/"
        },
        "id": "urJVSyGWDdgl",
        "outputId": "88f60c4b-49da-4b1a-fc1d-b942e150aaea"
      },
      "source": [
        "iqr_03=df_3_barrier_side_effects['amount_of_positive_answers'].quantile(0.75)-df_3_barrier_side_effects['amount_of_positive_answers'].quantile(0.25)\n",
        "print(f'El 50% de los días hubo un numero menor o igual a {round(percentil_0_75_03,0)} y mayor o igual a {round(percentil_0_25_03,0)} de personas que afirman estar en contra de la vacuna debido a sus efectos secundarios en todo el país')\n",
        "print(f'Nuestro IQR es de: {round(iqr_03,0)}')"
      ],
      "execution_count": 575,
      "outputs": [
        {
          "output_type": "stream",
          "name": "stdout",
          "text": [
            "El 50% de los días hubo un numero menor o igual a 1327.0 y mayor o igual a 911.0 de personas que afirman estar en contra de la vacuna debido a sus efectos secundarios en todo el país\n",
            "Nuestro IQR es de: 417.0\n"
          ]
        }
      ]
    },
    {
      "cell_type": "markdown",
      "metadata": {
        "id": "UKcwiyK9EM0t"
      },
      "source": [
        "##### **DF de resumen**"
      ]
    },
    {
      "cell_type": "code",
      "metadata": {
        "id": "gQuWMQDrEVp5"
      },
      "source": [
        "df_summary=pd.DataFrame() #Inicamos el df\n",
        "# Creamos las columnas\n",
        "df_summary['mean']=None\n",
        "df_summary['weighted_mean']=None\n",
        "df_summary['trimmed_mean']=None\n",
        "df_summary['median']=None\n",
        "df_summary['std']=None\n",
        "df_summary['range']=None\n",
        "df_summary['percentile_0.25']=None\n",
        "df_summary['percentile_0.75']=None\n",
        "df_summary['IQR']=None\n",
        "\n",
        "# Añadimos la información anteriormente obtenida\n",
        "df_summary.loc['financial_concern']=[round(media,0),round(media_ponderada,0),round(media_truncada,0),round(mediana,0),round(std,0),round(rango,0),round(percentil_0_25,0),round(percentil_0_75,0),round(iqr,0)]\n",
        "df_summary.loc['accept_vaccine']=[round(media_02,0),round(media_ponderada_02,0),round(media_truncada_02,0),round(mediana_02,0),round(std_02,0),round(rango_02,0),round(percentil_0_25_02,0),round(percentil_0_75_02,0),round(iqr_02,0)]\n",
        "df_summary.loc['barrier_side_effects']=[round(media_03,0),round(media_ponderada_03,0),round(media_truncada_03,0),round(mediana_03,0),round(std_03,0),round(rango_03,0),round(percentil_0_25_03,0),round(percentil_0_75_03,0),round(iqr_03,0)]\n"
      ],
      "execution_count": 576,
      "outputs": []
    },
    {
      "cell_type": "code",
      "metadata": {
        "colab": {
          "base_uri": "https://localhost:8080/",
          "height": 142
        },
        "id": "RiA4autGHLa0",
        "outputId": "74f1aa9a-ca70-4fa6-8060-546dc5be54d4"
      },
      "source": [
        "df_summary.head()"
      ],
      "execution_count": 577,
      "outputs": [
        {
          "output_type": "execute_result",
          "data": {
            "text/html": [
              "<div>\n",
              "<style scoped>\n",
              "    .dataframe tbody tr th:only-of-type {\n",
              "        vertical-align: middle;\n",
              "    }\n",
              "\n",
              "    .dataframe tbody tr th {\n",
              "        vertical-align: top;\n",
              "    }\n",
              "\n",
              "    .dataframe thead th {\n",
              "        text-align: right;\n",
              "    }\n",
              "</style>\n",
              "<table border=\"1\" class=\"dataframe\">\n",
              "  <thead>\n",
              "    <tr style=\"text-align: right;\">\n",
              "      <th></th>\n",
              "      <th>mean</th>\n",
              "      <th>weighted_mean</th>\n",
              "      <th>trimmed_mean</th>\n",
              "      <th>median</th>\n",
              "      <th>std</th>\n",
              "      <th>range</th>\n",
              "      <th>percentile_0.25</th>\n",
              "      <th>percentile_0.75</th>\n",
              "      <th>IQR</th>\n",
              "    </tr>\n",
              "  </thead>\n",
              "  <tbody>\n",
              "    <tr>\n",
              "      <th>financial_concern</th>\n",
              "      <td>3365.0</td>\n",
              "      <td>4085.0</td>\n",
              "      <td>3301.0</td>\n",
              "      <td>3200.0</td>\n",
              "      <td>1629.0</td>\n",
              "      <td>6923.0</td>\n",
              "      <td>1878.0</td>\n",
              "      <td>4684.0</td>\n",
              "      <td>2806.0</td>\n",
              "    </tr>\n",
              "    <tr>\n",
              "      <th>accept_vaccine</th>\n",
              "      <td>8379.0</td>\n",
              "      <td>8491.0</td>\n",
              "      <td>8431.0</td>\n",
              "      <td>8741.0</td>\n",
              "      <td>963.0</td>\n",
              "      <td>4296.0</td>\n",
              "      <td>7525.0</td>\n",
              "      <td>9120.0</td>\n",
              "      <td>1595.0</td>\n",
              "    </tr>\n",
              "    <tr>\n",
              "      <th>barrier_side_effects</th>\n",
              "      <td>1115.0</td>\n",
              "      <td>1181.0</td>\n",
              "      <td>1105.0</td>\n",
              "      <td>1083.0</td>\n",
              "      <td>285.0</td>\n",
              "      <td>1587.0</td>\n",
              "      <td>911.0</td>\n",
              "      <td>1327.0</td>\n",
              "      <td>417.0</td>\n",
              "    </tr>\n",
              "  </tbody>\n",
              "</table>\n",
              "</div>"
            ],
            "text/plain": [
              "                        mean  weighted_mean  ...  percentile_0.75     IQR\n",
              "financial_concern     3365.0         4085.0  ...           4684.0  2806.0\n",
              "accept_vaccine        8379.0         8491.0  ...           9120.0  1595.0\n",
              "barrier_side_effects  1115.0         1181.0  ...           1327.0   417.0\n",
              "\n",
              "[3 rows x 9 columns]"
            ]
          },
          "metadata": {},
          "execution_count": 577
        }
      ]
    },
    {
      "cell_type": "markdown",
      "metadata": {
        "id": "SCwSVs8G9r07"
      },
      "source": [
        "#### _**Sesión 2:** Introducción a la visualización de datos - Distribuciones_"
      ]
    },
    {
      "cell_type": "markdown",
      "metadata": {
        "id": "AzHEB_j4K9kY"
      },
      "source": [
        "**Ya que conseguiste terminar el _Postwork 1_, elimina las columnas `sample_size` de todos los _dataframes_ y renombra las columnas de tal forma que se pierdan los multi-índices y permanezcan solo los nombres de los indicadores.**\n",
        "**Las columnas que elimines ya no nos serán de utilidad, pero sí podrían fastidiarnos y por eso hay que borrarlas.**"
      ]
    },
    {
      "cell_type": "markdown",
      "metadata": {
        "id": "AH9iILZPKcRx"
      },
      "source": [
        "**1. Genera _Boxplots_ sin filtro y con filtro (IQR) de los siguientes indicadores. :**\n",
        "\n",
        "- `accept_vaccine (df2)`\n",
        "- `financial_concern (df1)`\n",
        "- `barrier_side_effects (df3)`\n",
        "- `trust_WHO_recommendation (df2)`\n",
        "- `trust_government_recommendation (df2)`.\n",
        "\n",
        "**Ahora compáralos y anota tus observaciones.**\n",
        "\n",
        "**2. Genera las tablas de frecuencia (considerando un número de divisiones razonable) de los siguientes indicadores:**\n",
        "\n",
        "- `accept_vaccine (df2)`\n",
        "- `financial_concern (df1)`\n",
        "- `barrier_side_effects (df3)`\n",
        "- `trust_WHO_recommendation (df2)`\n",
        "- `trust_government_recommendation (df2)`\n",
        "\n",
        "**Ten en cuenta que el número de divisiones puede variar para cada indicador.**\n",
        "\n",
        "**3. Utiliza `sns.histplot()` y genera los histogramas de los indicadores que se muestran más abajo. Agrégales un estilo personalizado y nombra apropiadamente los ejes de las gráficas, así como títulos congruentes.**\n",
        "\n",
        "- `trust_WHO_recommendation (df2)`\n",
        "- `trust_government_recommendation (df2)`\n",
        "\n",
        "**4. Genera las gráficas de densidad de los siguientes indicadores: `accept_vaccine (df2)`, `financial_concern (df1)`, `barrier_side_effects (df3)`, incluyendo con un `print(f\"...\")` los datos de curtosis y asimetría. Además incluye, dentro del gráfico, líneas verticales de distinto color, las cuales representen a la media, mediana y desviación estándar (1D, 2D y 3D). Agrega leyendas que identifiquen a cada una de estas líneas.**\n",
        "\n",
        "**Ten en cuenta que debes mantener un estilo apropiado y agregar nombres descriptivos para los títulos y los ejes.**"
      ]
    },
    {
      "cell_type": "markdown",
      "metadata": {
        "id": "DRXdnR7TKjVM"
      },
      "source": [
        "##### **1. Generación de Boxplot con filtros y sin filtros**"
      ]
    },
    {
      "cell_type": "markdown",
      "metadata": {
        "id": "KdA5fi0GKyrd"
      },
      "source": [
        "###### **Financial_concern**"
      ]
    },
    {
      "cell_type": "code",
      "metadata": {
        "colab": {
          "base_uri": "https://localhost:8080/",
          "height": 111
        },
        "id": "ayNtEfQ1Pm6S",
        "outputId": "bf27b556-bef3-42db-9226-d09f1b0cc8ec"
      },
      "source": [
        "# Vamos a utilizar el df que ya habiamos filtrado, tomando de igual mananera el numero de respuestas positivas por día\n",
        "df_1_financial_corcern.head(2)"
      ],
      "execution_count": 581,
      "outputs": [
        {
          "output_type": "execute_result",
          "data": {
            "text/html": [
              "<div>\n",
              "<style scoped>\n",
              "    .dataframe tbody tr th:only-of-type {\n",
              "        vertical-align: middle;\n",
              "    }\n",
              "\n",
              "    .dataframe tbody tr th {\n",
              "        vertical-align: top;\n",
              "    }\n",
              "\n",
              "    .dataframe thead th {\n",
              "        text-align: right;\n",
              "    }\n",
              "</style>\n",
              "<table border=\"1\" class=\"dataframe\">\n",
              "  <thead>\n",
              "    <tr style=\"text-align: right;\">\n",
              "      <th></th>\n",
              "      <th>region_where_applied</th>\n",
              "      <th>survey_date_short</th>\n",
              "      <th>indicator_percentage</th>\n",
              "      <th>sample_size</th>\n",
              "      <th>amount_of_positive_answers</th>\n",
              "    </tr>\n",
              "  </thead>\n",
              "  <tbody>\n",
              "    <tr>\n",
              "      <th>0</th>\n",
              "      <td>Aguascalientes</td>\n",
              "      <td>2020-11</td>\n",
              "      <td>0.630136</td>\n",
              "      <td>6991</td>\n",
              "      <td>4405.280776</td>\n",
              "    </tr>\n",
              "    <tr>\n",
              "      <th>1</th>\n",
              "      <td>Aguascalientes</td>\n",
              "      <td>2020-11</td>\n",
              "      <td>0.619214</td>\n",
              "      <td>7853</td>\n",
              "      <td>4862.687542</td>\n",
              "    </tr>\n",
              "  </tbody>\n",
              "</table>\n",
              "</div>"
            ],
            "text/plain": [
              "  region_where_applied  ... amount_of_positive_answers\n",
              "0       Aguascalientes  ...                4405.280776\n",
              "1       Aguascalientes  ...                4862.687542\n",
              "\n",
              "[2 rows x 5 columns]"
            ]
          },
          "metadata": {},
          "execution_count": 581
        }
      ]
    },
    {
      "cell_type": "code",
      "metadata": {
        "colab": {
          "base_uri": "https://localhost:8080/",
          "height": 349
        },
        "id": "yP4atOh7SgfI",
        "outputId": "e2e2a7ce-882d-4c50-876c-446145093a5f"
      },
      "source": [
        "# Hacemos el Boxplot sin filtro\n",
        "\n",
        "sns.set(context='paper', style='whitegrid')\n",
        "plt.figure(figsize=(5,5))\n",
        "plt.title('Boxplot sin filtros del financial_concern')\n",
        "sns.boxplot(x=df_1_financial_corcern['amount_of_positive_answers'],showmeans=True);\n",
        "plt.xlabel('Número de respuestas positivas'); # Podemos ver que no hay datos atipicos por lo que no es posible filtrar por IQR"
      ],
      "execution_count": 586,
      "outputs": [
        {
          "output_type": "display_data",
          "data": {
            "image/png": "[encoded data removed]",
            "text/plain": [
              "<Figure size 360x360 with 1 Axes>"
            ]
          },
          "metadata": {}
        }
      ]
    },
    {
      "cell_type": "markdown",
      "metadata": {
        "id": "6JlWkhNDfRK5"
      },
      "source": [
        "###### **Accept_vaccine**"
      ]
    },
    {
      "cell_type": "code",
      "metadata": {
        "colab": {
          "base_uri": "https://localhost:8080/",
          "height": 204
        },
        "id": "jqE9hr50frdR",
        "outputId": "10beef2f-61bd-4fdd-c939-0d6075b3039c"
      },
      "source": [
        "# Vamos a utilizar el df que ya habiamos filtrado, tomando de igual mananera el numero de respuestas positivas por día\n",
        "df_2_accept_vaccine.head()"
      ],
      "execution_count": 587,
      "outputs": [
        {
          "output_type": "execute_result",
          "data": {
            "text/html": [
              "<div>\n",
              "<style scoped>\n",
              "    .dataframe tbody tr th:only-of-type {\n",
              "        vertical-align: middle;\n",
              "    }\n",
              "\n",
              "    .dataframe tbody tr th {\n",
              "        vertical-align: top;\n",
              "    }\n",
              "\n",
              "    .dataframe thead th {\n",
              "        text-align: right;\n",
              "    }\n",
              "</style>\n",
              "<table border=\"1\" class=\"dataframe\">\n",
              "  <thead>\n",
              "    <tr style=\"text-align: right;\">\n",
              "      <th></th>\n",
              "      <th>region_where_applied</th>\n",
              "      <th>survey_date_short</th>\n",
              "      <th>indicator_percentage</th>\n",
              "      <th>sample_size</th>\n",
              "      <th>amount_of_positive_answers</th>\n",
              "    </tr>\n",
              "  </thead>\n",
              "  <tbody>\n",
              "    <tr>\n",
              "      <th>0</th>\n",
              "      <td>Aguascalientes</td>\n",
              "      <td>2020-12</td>\n",
              "      <td>0.827023</td>\n",
              "      <td>9244</td>\n",
              "      <td>7645.000612</td>\n",
              "    </tr>\n",
              "    <tr>\n",
              "      <th>1</th>\n",
              "      <td>Aguascalientes</td>\n",
              "      <td>2020-12</td>\n",
              "      <td>0.820356</td>\n",
              "      <td>9623</td>\n",
              "      <td>7894.285788</td>\n",
              "    </tr>\n",
              "    <tr>\n",
              "      <th>2</th>\n",
              "      <td>Aguascalientes</td>\n",
              "      <td>2020-12</td>\n",
              "      <td>0.829659</td>\n",
              "      <td>9279</td>\n",
              "      <td>7698.405861</td>\n",
              "    </tr>\n",
              "    <tr>\n",
              "      <th>3</th>\n",
              "      <td>Aguascalientes</td>\n",
              "      <td>2020-12</td>\n",
              "      <td>0.845975</td>\n",
              "      <td>7633</td>\n",
              "      <td>6457.327175</td>\n",
              "    </tr>\n",
              "    <tr>\n",
              "      <th>4</th>\n",
              "      <td>Aguascalientes</td>\n",
              "      <td>2020-12</td>\n",
              "      <td>0.839036</td>\n",
              "      <td>7882</td>\n",
              "      <td>6613.281752</td>\n",
              "    </tr>\n",
              "  </tbody>\n",
              "</table>\n",
              "</div>"
            ],
            "text/plain": [
              "  region_where_applied  ... amount_of_positive_answers\n",
              "0       Aguascalientes  ...                7645.000612\n",
              "1       Aguascalientes  ...                7894.285788\n",
              "2       Aguascalientes  ...                7698.405861\n",
              "3       Aguascalientes  ...                6457.327175\n",
              "4       Aguascalientes  ...                6613.281752\n",
              "\n",
              "[5 rows x 5 columns]"
            ]
          },
          "metadata": {},
          "execution_count": 587
        }
      ]
    },
    {
      "cell_type": "code",
      "metadata": {
        "colab": {
          "base_uri": "https://localhost:8080/",
          "height": 349
        },
        "id": "Hgbv3BPUf2Wx",
        "outputId": "2c59c351-8f9f-45d0-ba47-37732f057801"
      },
      "source": [
        "# Hacemos el Boxplot sin filtro\n",
        "\n",
        "sns.set(context='paper', style='whitegrid')\n",
        "plt.figure(figsize=(5,5))\n",
        "plt.title('Boxplot sin filtros del accept_vaccine')\n",
        "sns.boxplot(x=df_2_accept_vaccine['amount_of_positive_answers'],showmeans=True);\n",
        "plt.xlabel('Número de respuestas positivas'); # Podemos ver que no hay datos atipicos por lo que no es posible filtrar por IQR"
      ],
      "execution_count": 588,
      "outputs": [
        {
          "output_type": "display_data",
          "data": {
            "image/png": "[encoded data removed]",
            "text/plain": [
              "<Figure size 360x360 with 1 Axes>"
            ]
          },
          "metadata": {}
        }
      ]
    },
    {
      "cell_type": "markdown",
      "metadata": {
        "id": "NJ49BRLvgH1D"
      },
      "source": [
        "###### **Barrier_side_effects**"
      ]
    },
    {
      "cell_type": "code",
      "metadata": {
        "colab": {
          "base_uri": "https://localhost:8080/",
          "height": 204
        },
        "id": "1aFzNgjigZCi",
        "outputId": "54b5b6a3-b1bf-4d39-cac5-c0299761700d"
      },
      "source": [
        "# Vamos a utilizar el df que ya habiamos filtrado, tomando de igual mananera el numero de respuestas positivas por día\n",
        "df_3_barrier_side_effects.head()"
      ],
      "execution_count": 589,
      "outputs": [
        {
          "output_type": "execute_result",
          "data": {
            "text/html": [
              "<div>\n",
              "<style scoped>\n",
              "    .dataframe tbody tr th:only-of-type {\n",
              "        vertical-align: middle;\n",
              "    }\n",
              "\n",
              "    .dataframe tbody tr th {\n",
              "        vertical-align: top;\n",
              "    }\n",
              "\n",
              "    .dataframe thead th {\n",
              "        text-align: right;\n",
              "    }\n",
              "</style>\n",
              "<table border=\"1\" class=\"dataframe\">\n",
              "  <thead>\n",
              "    <tr style=\"text-align: right;\">\n",
              "      <th></th>\n",
              "      <th>region_where_applied</th>\n",
              "      <th>survey_date_short</th>\n",
              "      <th>indicator_percentage</th>\n",
              "      <th>sample_size</th>\n",
              "      <th>amount_of_positive_answers</th>\n",
              "    </tr>\n",
              "  </thead>\n",
              "  <tbody>\n",
              "    <tr>\n",
              "      <th>0</th>\n",
              "      <td>Aguascalientes</td>\n",
              "      <td>2021-2</td>\n",
              "      <td>0.573751</td>\n",
              "      <td>2551</td>\n",
              "      <td>1463.638801</td>\n",
              "    </tr>\n",
              "    <tr>\n",
              "      <th>1</th>\n",
              "      <td>Aguascalientes</td>\n",
              "      <td>2021-2</td>\n",
              "      <td>0.570975</td>\n",
              "      <td>2437</td>\n",
              "      <td>1391.466075</td>\n",
              "    </tr>\n",
              "    <tr>\n",
              "      <th>2</th>\n",
              "      <td>Aguascalientes</td>\n",
              "      <td>2021-2</td>\n",
              "      <td>0.555971</td>\n",
              "      <td>2560</td>\n",
              "      <td>1423.285760</td>\n",
              "    </tr>\n",
              "    <tr>\n",
              "      <th>3</th>\n",
              "      <td>Aguascalientes</td>\n",
              "      <td>2021-2</td>\n",
              "      <td>0.557596</td>\n",
              "      <td>2627</td>\n",
              "      <td>1464.804692</td>\n",
              "    </tr>\n",
              "    <tr>\n",
              "      <th>4</th>\n",
              "      <td>Aguascalientes</td>\n",
              "      <td>2021-2</td>\n",
              "      <td>0.600578</td>\n",
              "      <td>2656</td>\n",
              "      <td>1595.135168</td>\n",
              "    </tr>\n",
              "  </tbody>\n",
              "</table>\n",
              "</div>"
            ],
            "text/plain": [
              "  region_where_applied  ... amount_of_positive_answers\n",
              "0       Aguascalientes  ...                1463.638801\n",
              "1       Aguascalientes  ...                1391.466075\n",
              "2       Aguascalientes  ...                1423.285760\n",
              "3       Aguascalientes  ...                1464.804692\n",
              "4       Aguascalientes  ...                1595.135168\n",
              "\n",
              "[5 rows x 5 columns]"
            ]
          },
          "metadata": {},
          "execution_count": 589
        }
      ]
    },
    {
      "cell_type": "code",
      "metadata": {
        "colab": {
          "base_uri": "https://localhost:8080/",
          "height": 349
        },
        "id": "gMh9axCZghKI",
        "outputId": "cc379243-7b21-4eb8-c5d5-64e5a1392a1b"
      },
      "source": [
        "sns.set(context='paper', style='whitegrid')\n",
        "plt.figure(figsize=(5,5))\n",
        "plt.title('Boxplot sin filtros del barrier_side_effects')\n",
        "sns.boxplot(x=df_3_barrier_side_effects['amount_of_positive_answers'],showmeans=True);\n",
        "plt.xlabel('Número de respuestas positivas'); # Aqui si hay un solo dato atipico por lo que vamos a aplicar el filtro de IQR"
      ],
      "execution_count": 595,
      "outputs": [
        {
          "output_type": "display_data",
          "data": {
            "image/png": "[encoded data removed]",
            "text/plain": [
              "<Figure size 360x360 with 1 Axes>"
            ]
          },
          "metadata": {}
        }
      ]
    },
    {
      "cell_type": "code",
      "metadata": {
        "colab": {
          "base_uri": "https://localhost:8080/",
          "height": 349
        },
        "id": "VaP_bxW1WfUv",
        "outputId": "5ef50670-62c9-4b77-f28b-e5e71636cb1f"
      },
      "source": [
        "# Boxplot con filtro\n",
        "\n",
        "iqr_03=df_3_barrier_side_effects['amount_of_positive_answers'].quantile(0.75)-df_3_barrier_side_effects['amount_of_positive_answers'].quantile(0.25)\n",
        "filtro_superior_03=df_3_barrier_side_effects['amount_of_positive_answers']<df_3_barrier_side_effects['amount_of_positive_answers'].quantile(.25)-(iqr_03*1.5)\n",
        "filtro_inferior_03=df_3_barrier_side_effects['amount_of_positive_answers']>df_3_barrier_side_effects['amount_of_positive_answers'].quantile(.25)-(iqr_03*1.5)\n",
        "df_3_barrier_side_effects_filtrado=df_3_barrier_side_effects[filtro_inferior_03]\n",
        "\n",
        "sns.set(context='paper', style='whitegrid')\n",
        "plt.figure(figsize=(5,5))\n",
        "plt.title('Boxplot con filtros del barrier_side_effects')\n",
        "sns.boxplot(x=df_3_barrier_side_effects_filtrado['amount_of_positive_answers'],showmeans=True);\n",
        "plt.xlabel('Número de respuestas positivas'); ## Al estar demaciado cerca el IQR no surte efecto, pero esto no afecta tanto ya que solo es un valor atipico."
      ],
      "execution_count": 627,
      "outputs": [
        {
          "output_type": "display_data",
          "data": {
            "image/png": "[encoded data removed]",
            "text/plain": [
              "<Figure size 360x360 with 1 Axes>"
            ]
          },
          "metadata": {}
        }
      ]
    },
    {
      "cell_type": "markdown",
      "metadata": {
        "id": "2eRHU_FnkR5H"
      },
      "source": [
        "###### **Trust_WHO_recommendation**"
      ]
    },
    {
      "cell_type": "code",
      "metadata": {
        "colab": {
          "base_uri": "https://localhost:8080/",
          "height": 111
        },
        "id": "5BMGjzpOkfPq",
        "outputId": "33414885-f797-445b-cd85-ff9d3d5b8ef5"
      },
      "source": [
        "# Lo primero que vamos a hacer es filtrar el df2 para obtener el amount_of_positive_answers\n",
        "df_2_trust_WHO_recommendation=df2_columnas_sin_indexar.iloc[:,[0,2,9,10]]\n",
        "amount_of_positive_answers=df_2_trust_WHO_recommendation.sample_size*df_2_trust_WHO_recommendation.indicator_percentage \n",
        "df_2_trust_WHO_recommendation.insert(4,'amount_of_positive_answers',amount_of_positive_answers)\n",
        "df_2_trust_WHO_recommendation.head(2) #Insertamos una tercera columna para poder hacer todo el analisis sobre la misma"
      ],
      "execution_count": 648,
      "outputs": [
        {
          "output_type": "execute_result",
          "data": {
            "text/html": [
              "<div>\n",
              "<style scoped>\n",
              "    .dataframe tbody tr th:only-of-type {\n",
              "        vertical-align: middle;\n",
              "    }\n",
              "\n",
              "    .dataframe tbody tr th {\n",
              "        vertical-align: top;\n",
              "    }\n",
              "\n",
              "    .dataframe thead th {\n",
              "        text-align: right;\n",
              "    }\n",
              "</style>\n",
              "<table border=\"1\" class=\"dataframe\">\n",
              "  <thead>\n",
              "    <tr style=\"text-align: right;\">\n",
              "      <th></th>\n",
              "      <th>region_where_applied</th>\n",
              "      <th>survey_date_short</th>\n",
              "      <th>indicator_percentage</th>\n",
              "      <th>sample_size</th>\n",
              "      <th>amount_of_positive_answers</th>\n",
              "    </tr>\n",
              "  </thead>\n",
              "  <tbody>\n",
              "    <tr>\n",
              "      <th>0</th>\n",
              "      <td>Aguascalientes</td>\n",
              "      <td>2020-12</td>\n",
              "      <td>0.768438</td>\n",
              "      <td>3152</td>\n",
              "      <td>2422.116576</td>\n",
              "    </tr>\n",
              "    <tr>\n",
              "      <th>1</th>\n",
              "      <td>Aguascalientes</td>\n",
              "      <td>2020-12</td>\n",
              "      <td>0.753498</td>\n",
              "      <td>8364</td>\n",
              "      <td>6302.257272</td>\n",
              "    </tr>\n",
              "  </tbody>\n",
              "</table>\n",
              "</div>"
            ],
            "text/plain": [
              "  region_where_applied  ... amount_of_positive_answers\n",
              "0       Aguascalientes  ...                2422.116576\n",
              "1       Aguascalientes  ...                6302.257272\n",
              "\n",
              "[2 rows x 5 columns]"
            ]
          },
          "metadata": {},
          "execution_count": 648
        }
      ]
    },
    {
      "cell_type": "code",
      "metadata": {
        "colab": {
          "base_uri": "https://localhost:8080/",
          "height": 349
        },
        "id": "pCgmRXOgmYSy",
        "outputId": "585f3a44-657a-491e-e1fc-85409fd00be9"
      },
      "source": [
        "# Utiliando este nuevo filtro procedemos a hacer el Boxplot\n",
        "sns.set(context='paper', style='whitegrid')\n",
        "plt.figure(figsize=(5,5))\n",
        "plt.title('Boxplot sin filtros del trust_WHO_recommendation')\n",
        "sns.boxplot(x=df_2_trust_WHO_recommendation['amount_of_positive_answers'],showmeans=True);\n",
        "plt.xlabel('Número de respuestas positivas'); # Aqui si hay un datos atipicos por lo que vamos a aplicar el filtro de IQR"
      ],
      "execution_count": 615,
      "outputs": [
        {
          "output_type": "display_data",
          "data": {
            "image/png": "[encoded data removed]",
            "text/plain": [
              "<Figure size 360x360 with 1 Axes>"
            ]
          },
          "metadata": {}
        }
      ]
    },
    {
      "cell_type": "code",
      "metadata": {
        "colab": {
          "base_uri": "https://localhost:8080/",
          "height": 349
        },
        "id": "kWHJuhvsmz-C",
        "outputId": "51412fde-202b-4a8c-ce29-449213ae5a09"
      },
      "source": [
        "# Boxplot con filtro\n",
        "\n",
        "iqr_04=df_2_trust_WHO_recommendation['amount_of_positive_answers'].quantile(0.75)-df_2_trust_WHO_recommendation['amount_of_positive_answers'].quantile(0.25)\n",
        "filtro_superior_04=df_2_trust_WHO_recommendation['amount_of_positive_answers']<df_2_trust_WHO_recommendation['amount_of_positive_answers'].quantile(.25)-(iqr_04*1.5)\n",
        "filtro_inferior_04=df_2_trust_WHO_recommendation['amount_of_positive_answers']>df_2_trust_WHO_recommendation['amount_of_positive_answers'].quantile(.25)-(iqr_04*1.5)\n",
        "df_2_trust_WHO_recommendation_filtrado=df_2_trust_WHO_recommendation[filtro_inferior_04]\n",
        "\n",
        "sns.set(context='paper', style='whitegrid')\n",
        "plt.figure(figsize=(5,5))\n",
        "plt.title('Boxplot con filtros del trust_WHO_recommendation')\n",
        "sns.boxplot(x=df_2_trust_WHO_recommendation_filtrado['amount_of_positive_answers'],showmeans=True);\n",
        "plt.xlabel('Número de respuestas positivas'); #Aqui sí fue posible quitar los datos atipicos."
      ],
      "execution_count": 628,
      "outputs": [
        {
          "output_type": "display_data",
          "data": {
            "image/png": "[encoded data removed]",
            "text/plain": [
              "<Figure size 360x360 with 1 Axes>"
            ]
          },
          "metadata": {}
        }
      ]
    },
    {
      "cell_type": "markdown",
      "metadata": {
        "id": "I_D-Lb2OnsWI"
      },
      "source": [
        "###### **Trust_government_recommendation**"
      ]
    },
    {
      "cell_type": "code",
      "metadata": {
        "colab": {
          "base_uri": "https://localhost:8080/",
          "height": 111
        },
        "id": "gwZpFFiJn2-k",
        "outputId": "04b8ced6-d041-4baf-8b6d-98bed1e4cb63"
      },
      "source": [
        "# Lo primero que vamos a hacer es filtrar el df2 para obtener el amount_of_positive_answers\n",
        "df_2_trust_government_recommendation=df2_columnas_sin_indexar.iloc[:,[0,2,11,12]]\n",
        "amount_of_positive_answers=df_2_trust_government_recommendation.sample_size*df_2_trust_government_recommendation.indicator_percentage \n",
        "df_2_trust_government_recommendation.insert(4,'amount_of_positive_answers',amount_of_positive_answers)\n",
        "df_2_trust_government_recommendation.head(2) #Insertamos una tercera columna para poder hacer todo el analisis sobre la misma"
      ],
      "execution_count": 619,
      "outputs": [
        {
          "output_type": "execute_result",
          "data": {
            "text/html": [
              "<div>\n",
              "<style scoped>\n",
              "    .dataframe tbody tr th:only-of-type {\n",
              "        vertical-align: middle;\n",
              "    }\n",
              "\n",
              "    .dataframe tbody tr th {\n",
              "        vertical-align: top;\n",
              "    }\n",
              "\n",
              "    .dataframe thead th {\n",
              "        text-align: right;\n",
              "    }\n",
              "</style>\n",
              "<table border=\"1\" class=\"dataframe\">\n",
              "  <thead>\n",
              "    <tr style=\"text-align: right;\">\n",
              "      <th></th>\n",
              "      <th>region_where_applied</th>\n",
              "      <th>survey_date_short</th>\n",
              "      <th>indicator_percentage</th>\n",
              "      <th>sample_size</th>\n",
              "      <th>amount_of_positive_answers</th>\n",
              "    </tr>\n",
              "  </thead>\n",
              "  <tbody>\n",
              "    <tr>\n",
              "      <th>0</th>\n",
              "      <td>Aguascalientes</td>\n",
              "      <td>2020-12</td>\n",
              "      <td>0.657455</td>\n",
              "      <td>2942</td>\n",
              "      <td>1934.232610</td>\n",
              "    </tr>\n",
              "    <tr>\n",
              "      <th>1</th>\n",
              "      <td>Aguascalientes</td>\n",
              "      <td>2020-12</td>\n",
              "      <td>0.644496</td>\n",
              "      <td>7739</td>\n",
              "      <td>4987.754544</td>\n",
              "    </tr>\n",
              "  </tbody>\n",
              "</table>\n",
              "</div>"
            ],
            "text/plain": [
              "  region_where_applied  ... amount_of_positive_answers\n",
              "0       Aguascalientes  ...                1934.232610\n",
              "1       Aguascalientes  ...                4987.754544\n",
              "\n",
              "[2 rows x 5 columns]"
            ]
          },
          "metadata": {},
          "execution_count": 619
        }
      ]
    },
    {
      "cell_type": "code",
      "metadata": {
        "colab": {
          "base_uri": "https://localhost:8080/",
          "height": 349
        },
        "id": "FkOVHA6No4ZA",
        "outputId": "9eb9c33f-91fa-4695-958d-ee89ac4cdf92"
      },
      "source": [
        "sns.set(context='paper', style='whitegrid')\n",
        "plt.figure(figsize=(5,5))\n",
        "plt.title('Boxplot sin filtros del trust_government_recommendation')\n",
        "sns.boxplot(x=df_2_trust_government_recommendation['amount_of_positive_answers'],showmeans=True);\n",
        "plt.xlabel('Número de respuestas positivas'); # Aqui si hay datos atipicos por lo que vamos a aplicar el filtro de IQR"
      ],
      "execution_count": 626,
      "outputs": [
        {
          "output_type": "display_data",
          "data": {
            "image/png": "[encoded data removed]",
            "text/plain": [
              "<Figure size 360x360 with 1 Axes>"
            ]
          },
          "metadata": {}
        }
      ]
    },
    {
      "cell_type": "code",
      "metadata": {
        "colab": {
          "base_uri": "https://localhost:8080/",
          "height": 349
        },
        "id": "yQUiaWUIpG70",
        "outputId": "cd1eedf9-c106-4be2-dcbf-4d1c763b21c0"
      },
      "source": [
        "# Boxplot con filtro\n",
        "\n",
        "iqr_05=df_2_trust_government_recommendation['amount_of_positive_answers'].quantile(0.75)-df_2_trust_government_recommendation['amount_of_positive_answers'].quantile(0.25)\n",
        "filtro_superior_05=df_2_trust_government_recommendation['amount_of_positive_answers']<df_2_trust_WHO_recommendation['amount_of_positive_answers'].quantile(.25)-(iqr_05*1.5)\n",
        "filtro_inferior_05=df_2_trust_government_recommendation['amount_of_positive_answers']>df_2_trust_WHO_recommendation['amount_of_positive_answers'].quantile(.25)-(iqr_05*1.5)\n",
        "df_2_trust_government_recommendation_filtrado=df_2_trust_government_recommendation[filtro_inferior_05]\n",
        "\n",
        "sns.set(context='paper', style='whitegrid')\n",
        "plt.figure(figsize=(5,5))\n",
        "plt.title('Boxplot con filtros del trust_government_recommendation')\n",
        "sns.boxplot(x=df_2_trust_government_recommendation_filtrado['amount_of_positive_answers'],showmeans=True);\n",
        "plt.xlabel('Número de respuestas positivas'); #Aqui sí fue posible quitar los datos atipicos."
      ],
      "execution_count": 625,
      "outputs": [
        {
          "output_type": "display_data",
          "data": {
            "image/png": "[encoded data removed]",
            "text/plain": [
              "<Figure size 360x360 with 1 Axes>"
            ]
          },
          "metadata": {}
        }
      ]
    },
    {
      "cell_type": "markdown",
      "metadata": {
        "id": "T5bz0uCQtlwm"
      },
      "source": [
        "###### **Conclusiones**"
      ]
    },
    {
      "cell_type": "markdown",
      "metadata": {
        "id": "sgMjP532t67N"
      },
      "source": [
        "- Lo primero y más evidente es que las personas en nuestros país confian más en las recomendaciones de la OMS que en las de muestros propio gobierno.\n",
        "- Lo siguiente es que hay una cantidad considerable de personas que estan en contra de la vacuna por sus efectos efectos efectos, por lo que se debe atacar ese rubro para conseguir que más personas se puedan vacunar.\n",
        "- Algo positivo es que existen una gran aceptación de la vacuna.\n",
        "- Por último tenemos que demanera extraña, una cantidad no tan grande de personas se encuentra preocupada por sus finanzas, tomando en cuenta que 2020 ha sido el peor añor año economicamente en toda la historio de México."
      ]
    },
    {
      "cell_type": "markdown",
      "metadata": {
        "id": "tolP6QjyuIFY"
      },
      "source": [
        "##### **2. Generación de tablas de frecuencia**"
      ]
    },
    {
      "cell_type": "markdown",
      "metadata": {
        "id": "P_scCxbpuQGs"
      },
      "source": [
        "###### **Financial_concern**"
      ]
    },
    {
      "cell_type": "code",
      "metadata": {
        "colab": {
          "base_uri": "https://localhost:8080/"
        },
        "id": "587IgfSguVz1",
        "outputId": "d83366df-57c7-4b63-a87a-ad9ee4cfc48f"
      },
      "source": [
        "# Lo primero que debemos obtener es el numero de filas que tiene\n",
        "num_filas_df_1_financial_corcern=len(df_1_financial_corcern['amount_of_positive_answers'])\n",
        "\n",
        "# Luego debemos sacar el k que es el numero de dividisiones que debe tener la tabla de frecuencias\n",
        "# En estadistica la formula más aceptada para obtener esto es log_2(n)\n",
        "# Donde es el numero de datos con los que se cuenta por obtenemos las filas\n",
        "\n",
        "k_df_1_financial_corcern=math.ceil(math.log2(num_filas_df_1_financial_corcern))\n",
        "\n",
        "\n",
        "# Ahora solo queda sustituirlo en función de pandas\n",
        "\n",
        "amount_of_positive_answers=df_1_financial_corcern['amount_of_positive_answers']\n",
        "segmento_df_1_financial_corcern=pd.cut(amount_of_positive_answers,k_df_1_financial_corcern)\n",
        "amount_of_positive_answers.groupby(segmento_df_1_financial_corcern).count()"
      ],
      "execution_count": 640,
      "outputs": [
        {
          "output_type": "stream",
          "name": "stdout",
          "text": [
            "7476.116984\n"
          ]
        },
        {
          "output_type": "execute_result",
          "data": {
            "text/plain": [
              "amount_of_positive_answers\n",
              "(545.759, 1085.254]      137\n",
              "(1085.254, 1617.826]    1133\n",
              "(1617.826, 2150.398]     999\n",
              "(2150.398, 2682.97]      676\n",
              "(2682.97, 3215.542]      653\n",
              "(3215.542, 3748.114]     712\n",
              "(3748.114, 4280.686]     283\n",
              "(4280.686, 4813.258]     852\n",
              "(4813.258, 5345.829]     442\n",
              "(5345.829, 5878.401]     667\n",
              "(5878.401, 6410.973]     480\n",
              "(6410.973, 6943.545]       0\n",
              "(6943.545, 7476.117]      31\n",
              "Name: amount_of_positive_answers, dtype: int64"
            ]
          },
          "metadata": {},
          "execution_count": 640
        }
      ]
    },
    {
      "cell_type": "markdown",
      "metadata": {
        "id": "mO1nqWXNztax"
      },
      "source": [
        "###### **Accept_vaccine**"
      ]
    },
    {
      "cell_type": "code",
      "metadata": {
        "colab": {
          "base_uri": "https://localhost:8080/"
        },
        "id": "DiEaQ6dAzuJP",
        "outputId": "d17bed93-4e6a-4f6a-dd5f-6b6fe36df72d"
      },
      "source": [
        "# Lo primero que debemos obtener es el numero de filas que tiene\n",
        "num_filas_df_2_accept_vaccine=len(df_2_accept_vaccine['amount_of_positive_answers'])\n",
        "\n",
        "# Luego debemos sacar el k que es el numero de dividisiones que debe tener la tabla de frecuencias\n",
        "# En estadistica la formula más aceptada para obtener esto es log_2(n)\n",
        "# Donde es el numero de datos con los que se cuenta por obtenemos las filas\n",
        "\n",
        "k_df_2_accept_vaccine=math.ceil(math.log2(num_filas_df_2_accept_vaccine))\n",
        "\n",
        "\n",
        "# Ahora solo queda sustituirlo en función de pandas\n",
        "amount_of_positive_answers_02=df_2_accept_vaccine['amount_of_positive_answers']\n",
        "segmento_df_2_accept_vaccine=pd.cut(amount_of_positive_answers_02,k_df_2_accept_vaccine)\n",
        "amount_of_positive_answers_02.groupby(segmento_df_2_accept_vaccine).count()"
      ],
      "execution_count": 646,
      "outputs": [
        {
          "output_type": "execute_result",
          "data": {
            "text/plain": [
              "amount_of_positive_answers\n",
              "(5808.255, 6203.103]      26\n",
              "(6203.103, 6593.655]      26\n",
              "(6593.655, 6984.207]      79\n",
              "(6984.207, 7374.759]     215\n",
              "(7374.759, 7765.312]     169\n",
              "(7765.312, 8155.864]      58\n",
              "(8155.864, 8546.416]     144\n",
              "(8546.416, 8936.968]     323\n",
              "(8936.968, 9327.52]      299\n",
              "(9327.52, 9718.072]      211\n",
              "(9718.072, 10108.625]     31\n",
              "Name: amount_of_positive_answers, dtype: int64"
            ]
          },
          "metadata": {},
          "execution_count": 646
        }
      ]
    },
    {
      "cell_type": "markdown",
      "metadata": {
        "id": "wyjpDsxG0QKr"
      },
      "source": [
        "###### **Barrier_side_effects**"
      ]
    },
    {
      "cell_type": "code",
      "metadata": {
        "colab": {
          "base_uri": "https://localhost:8080/"
        },
        "id": "mYSxfY2L0kE7",
        "outputId": "cc15b872-aef8-4237-867b-473862bf5369"
      },
      "source": [
        "# Lo primero que debemos obtener es el numero de filas que tiene\n",
        "num_filas_df_3_barrier_side_effects=len(df_3_barrier_side_effects['amount_of_positive_answers'])\n",
        "\n",
        "# Luego debemos sacar el k que es el numero de dividisiones que debe tener la tabla de frecuencias\n",
        "# En estadistica la formula más aceptada para obtener esto es log_2(n)\n",
        "# Donde es el numero de datos con los que se cuenta por obtenemos las filas\n",
        "\n",
        "k_df_3_barrier_side_effects=math.ceil(math.log2(num_filas_df_3_barrier_side_effects))\n",
        "\n",
        "\n",
        "# Ahora solo queda sustituirlo en función de pandas\n",
        "amount_of_positive_answers_03=df_3_barrier_side_effects['amount_of_positive_answers']\n",
        "segmento_df_3_barrier_side_effects=pd.cut(amount_of_positive_answers_03,k_df_3_barrier_side_effects)\n",
        "amount_of_positive_answers_03.groupby(segmento_df_3_barrier_side_effects).count()"
      ],
      "execution_count": 647,
      "outputs": [
        {
          "output_type": "execute_result",
          "data": {
            "text/plain": [
              "amount_of_positive_answers\n",
              "(518.416, 664.282]       82\n",
              "(664.282, 808.561]      132\n",
              "(808.561, 952.84]       346\n",
              "(952.84, 1097.119]      435\n",
              "(1097.119, 1241.398]    301\n",
              "(1241.398, 1385.677]    207\n",
              "(1385.677, 1529.956]    266\n",
              "(1529.956, 1674.235]     80\n",
              "(1674.235, 1818.514]      0\n",
              "(1818.514, 1962.793]      0\n",
              "(1962.793, 2107.072]     31\n",
              "Name: amount_of_positive_answers, dtype: int64"
            ]
          },
          "metadata": {},
          "execution_count": 647
        }
      ]
    },
    {
      "cell_type": "markdown",
      "metadata": {
        "id": "gnfHA_nN1YWU"
      },
      "source": [
        "###### **Trust_WHO_recommendation**"
      ]
    },
    {
      "cell_type": "code",
      "metadata": {
        "colab": {
          "base_uri": "https://localhost:8080/"
        },
        "id": "Zu01qerO1diN",
        "outputId": "4202e0bf-eb9a-44cb-89ef-0f9562b5df3a"
      },
      "source": [
        "# Lo primero que debemos obtener es el numero de filas que tiene\n",
        "num_filas_df_2_trust_WHO_recommendation_filtrado=len(df_2_trust_WHO_recommendation_filtrado['amount_of_positive_answers'])\n",
        "\n",
        "# Luego debemos sacar el k que es el numero de dividisiones que debe tener la tabla de frecuencias\n",
        "# En estadistica la formula más aceptada para obtener esto es log_2(n)\n",
        "# Donde es el numero de datos con los que se cuenta por obtenemos las filas\n",
        "\n",
        "k_df_2_trust_WHO_recommendation_filtrado=math.ceil(math.log2(num_filas_df_2_trust_WHO_recommendation_filtrado))\n",
        "\n",
        "\n",
        "# Ahora solo queda sustituirlo en función de pandas\n",
        "amount_of_positive_answers_04=df_2_trust_WHO_recommendation_filtrado['amount_of_positive_answers']\n",
        "segmento_df_2_trust_WHO_recommendation_filtrado=pd.cut(amount_of_positive_answers_04,k_df_2_trust_WHO_recommendation_filtrado)\n",
        "amount_of_positive_answers_04.groupby(segmento_df_2_trust_WHO_recommendation_filtrado).count()\n",
        "\n",
        "# Es importante mencionar que aqui los filtros fueron efectivos por lo que trabajamos con datos filtrados"
      ],
      "execution_count": 658,
      "outputs": [
        {
          "output_type": "execute_result",
          "data": {
            "text/plain": [
              "amount_of_positive_answers\n",
              "(4795.136, 5087.053]     26\n",
              "(5087.053, 5375.794]     53\n",
              "(5375.794, 5664.534]    161\n",
              "(5664.534, 5953.275]    106\n",
              "(5953.275, 6242.016]     83\n",
              "(6242.016, 6530.756]    115\n",
              "(6530.756, 6819.497]    174\n",
              "(6819.497, 7108.238]    174\n",
              "(7108.238, 7396.979]    299\n",
              "(7396.979, 7685.719]    239\n",
              "(7685.719, 7974.46]     122\n",
              "Name: amount_of_positive_answers, dtype: int64"
            ]
          },
          "metadata": {},
          "execution_count": 658
        }
      ]
    },
    {
      "cell_type": "markdown",
      "metadata": {
        "id": "b1g7idw92IOF"
      },
      "source": [
        "###### **Trust_government_recommendation**"
      ]
    },
    {
      "cell_type": "code",
      "metadata": {
        "colab": {
          "base_uri": "https://localhost:8080/"
        },
        "id": "fiX_rr6v2Rmp",
        "outputId": "8fd7f087-c3f7-4a39-a264-c563f864fb08"
      },
      "source": [
        "# Lo primero que debemos obtener es el numero de filas que tiene\n",
        "num_filas_df_2_trust_government_recommendation_filtrado=len(df_2_trust_government_recommendation_filtrado['amount_of_positive_answers'])\n",
        "\n",
        "# Luego debemos sacar el k que es el numero de dividisiones que debe tener la tabla de frecuencias\n",
        "# En estadistica la formula más aceptada para obtener esto es log_2(n)\n",
        "# Donde es el numero de datos con los que se cuenta por obtenemos las filas\n",
        "\n",
        "k_df_2_trust_government_recommendation_filtrado=math.ceil(math.log2(num_filas_df_2_trust_government_recommendation_filtrado))\n",
        "\n",
        "\n",
        "# Ahora solo queda sustituirlo en función de pandas\n",
        "amount_of_positive_answers_05=df_2_trust_government_recommendation_filtrado['amount_of_positive_answers']\n",
        "segmento_df_2_trust_government_recommendation_filtrado=pd.cut(amount_of_positive_answers_05,k_df_2_trust_government_recommendation_filtrado)\n",
        "amount_of_positive_answers_05.groupby(segmento_df_2_trust_government_recommendation_filtrado).count()"
      ],
      "execution_count": 660,
      "outputs": [
        {
          "output_type": "execute_result",
          "data": {
            "text/plain": [
              "amount_of_positive_answers\n",
              "(4285.709, 4473.69]      54\n",
              "(4473.69, 4659.626]      80\n",
              "(4659.626, 4845.562]     83\n",
              "(4845.562, 5031.497]     88\n",
              "(5031.497, 5217.433]     58\n",
              "(5217.433, 5403.368]     57\n",
              "(5403.368, 5589.304]    177\n",
              "(5589.304, 5775.24]     354\n",
              "(5775.24, 5961.175]     151\n",
              "(5961.175, 6147.111]    180\n",
              "(6147.111, 6333.046]     30\n",
              "Name: amount_of_positive_answers, dtype: int64"
            ]
          },
          "metadata": {},
          "execution_count": 660
        }
      ]
    },
    {
      "cell_type": "markdown",
      "metadata": {
        "id": "cbC5_5Wl2wEl"
      },
      "source": [
        "##### **3. Generación de histogramas**"
      ]
    },
    {
      "cell_type": "markdown",
      "metadata": {
        "id": "x7lFKHHQ20Md"
      },
      "source": [
        "###### **Trust_WHO_recommendation**"
      ]
    },
    {
      "cell_type": "code",
      "metadata": {
        "colab": {
          "base_uri": "https://localhost:8080/",
          "height": 349
        },
        "id": "8JMaB_jD6jYE",
        "outputId": "a43a105c-ea3b-45f6-a013-2fb03b3d22ef"
      },
      "source": [
        "plt.figure(figsize=(5,5))\n",
        "plt.title('Histograma sin filtros del trust_WHO_recommendation')\n",
        "sns.histplot(data=df_2_trust_WHO_recommendation, x='amount_of_positive_answers');\n",
        "plt.xlabel('Número de respuestas positivas')\n",
        "plt.ylabel('Frecuencia'); # Es evidente ver los datos atipicos, por lo que vamos a hacer otro sin los mismos."
      ],
      "execution_count": 661,
      "outputs": [
        {
          "output_type": "display_data",
          "data": {
            "image/png": "[encoded data removed]",
            "text/plain": [
              "<Figure size 360x360 with 1 Axes>"
            ]
          },
          "metadata": {}
        }
      ]
    },
    {
      "cell_type": "code",
      "metadata": {
        "colab": {
          "base_uri": "https://localhost:8080/",
          "height": 349
        },
        "id": "G8yybGhZ8LB9",
        "outputId": "0c7366ec-34e4-4595-8f62-dbce4cc023f7"
      },
      "source": [
        "plt.figure(figsize=(5,5))\n",
        "plt.title('Histograma con filtros del trust_WHO_recommendation')\n",
        "sns.histplot(data=df_2_trust_WHO_recommendation_filtrado, x='amount_of_positive_answers', bins=11);\n",
        "plt.xlabel('Número de respuestas positivas')\n",
        "plt.ylabel('Frecuencia'); #Aqui podemos ver mejor el histograma"
      ],
      "execution_count": 662,
      "outputs": [
        {
          "output_type": "display_data",
          "data": {
            "image/png": "[encoded data removed]",
            "text/plain": [
              "<Figure size 360x360 with 1 Axes>"
            ]
          },
          "metadata": {}
        }
      ]
    },
    {
      "cell_type": "markdown",
      "metadata": {
        "id": "vXjVu6rg6S-Y"
      },
      "source": [
        "###### **Trust_government_recommendation**"
      ]
    },
    {
      "cell_type": "code",
      "metadata": {
        "colab": {
          "base_uri": "https://localhost:8080/",
          "height": 349
        },
        "id": "jU9dEdcc-EGc",
        "outputId": "18a9bf4f-fec3-4c4b-dbe7-22061dcd30e4"
      },
      "source": [
        "plt.figure(figsize=(5,5))\n",
        "plt.title('Histograma sin filtros del trust_government_recommendation')\n",
        "sns.histplot(data=df_2_trust_government_recommendation, x='amount_of_positive_answers');\n",
        "plt.xlabel('Número de respuestas positivas')\n",
        "plt.ylabel('Frecuencia'); # Es evidente ver los datos atipicos, por lo que vamos a hacer otro sin los mismos."
      ],
      "execution_count": 663,
      "outputs": [
        {
          "output_type": "display_data",
          "data": {
            "image/png": "[encoded data removed]",
            "text/plain": [
              "<Figure size 360x360 with 1 Axes>"
            ]
          },
          "metadata": {}
        }
      ]
    },
    {
      "cell_type": "code",
      "metadata": {
        "colab": {
          "base_uri": "https://localhost:8080/",
          "height": 349
        },
        "id": "79l8uEeJ-WUm",
        "outputId": "140b4fcc-91eb-47c1-d217-3758bc670d75"
      },
      "source": [
        "plt.figure(figsize=(5,5))\n",
        "plt.title('Histograma con filtros del trust_government_recommendation')\n",
        "sns.histplot(data=df_2_trust_government_recommendation_filtrado, x='amount_of_positive_answers', bins=11);\n",
        "plt.xlabel('Número de respuestas positivas')\n",
        "plt.ylabel('Frecuencia'); #Aqui podemos ver mejor el histograma"
      ],
      "execution_count": 664,
      "outputs": [
        {
          "output_type": "display_data",
          "data": {
            "image/png": "[encoded data removed]",
            "text/plain": [
              "<Figure size 360x360 with 1 Axes>"
            ]
          },
          "metadata": {}
        }
      ]
    },
    {
      "cell_type": "markdown",
      "metadata": {
        "id": "tknKETir-9d9"
      },
      "source": [
        "##### **4. Generación de gráficas de densidad**"
      ]
    },
    {
      "cell_type": "markdown",
      "metadata": {
        "id": "8GhYebdb_DJY"
      },
      "source": [
        "###### **Financial_concern**"
      ]
    },
    {
      "cell_type": "code",
      "metadata": {
        "colab": {
          "base_uri": "https://localhost:8080/",
          "height": 349
        },
        "id": "XMW-ltEH_WEi",
        "outputId": "625f1bb7-6381-4374-8564-3d66e1492f6f"
      },
      "source": [
        "# Configuramos la gráfica de densidad\n",
        "plt.figure(figsize=(5,5))\n",
        "plt.title('Gráfica de densida del financial_concern')\n",
        "sns.kdeplot(x=df_1_financial_corcern['amount_of_positive_answers'],fill=True);\n",
        "plt.xlabel('Número de respuestas positivas')\n",
        "plt.ylabel('Densidad');\n",
        "plt.axvline(x=media, color='red', label='Media');\n",
        "plt.axvline(x=mediana, color='green', label='Mediana');\n",
        "plt.axvline(x=std, color = 'orange', label='1 STD');\n",
        "plt.axvline(x=-std, color = 'orange')\n",
        "plt.axvline(x=2*std, color = 'blue', label='2 STD');\n",
        "plt.axvline(x=-2*std, color = 'blue')\n",
        "plt.axvline(x=3*std, color = 'yellow', label='3 STD');\n",
        "plt.axvline(x=-3*std, color = 'yellow')\n",
        "plt.legend(); "
      ],
      "execution_count": 682,
      "outputs": [
        {
          "output_type": "display_data",
          "data": {
            "image/png": "[encoded data removed]",
            "text/plain": [
              "<Figure size 360x360 with 1 Axes>"
            ]
          },
          "metadata": {}
        }
      ]
    },
    {
      "cell_type": "code",
      "metadata": {
        "colab": {
          "base_uri": "https://localhost:8080/"
        },
        "id": "hM533L84Cdn7",
        "outputId": "00f266da-9f05-41ec-f804-1acddbe40b6b"
      },
      "source": [
        "# Le agregamos el skew y la kurtosis\n",
        "print(f\"Kurtosis: {kurtosis(df_1_financial_corcern['amount_of_positive_answers'])}\")\n",
        "print(f\"Asimetria: {skew(df_1_financial_corcern['amount_of_positive_answers'])}\")"
      ],
      "execution_count": 687,
      "outputs": [
        {
          "output_type": "stream",
          "name": "stdout",
          "text": [
            "Kurtosis: -1.1521311071662361\n",
            "Asimetria: 0.2766236511461239\n"
          ]
        }
      ]
    },
    {
      "cell_type": "markdown",
      "metadata": {
        "id": "njJDyBW3_MXM"
      },
      "source": [
        "###### **Accept_vaccine**"
      ]
    },
    {
      "cell_type": "code",
      "metadata": {
        "colab": {
          "base_uri": "https://localhost:8080/",
          "height": 349
        },
        "id": "QOfKji9aE0hP",
        "outputId": "4a4e57fb-8429-422d-f0b3-752eed5817ab"
      },
      "source": [
        "# Configuramos la gráfica de densidad\n",
        "plt.figure(figsize=(5,5))\n",
        "plt.title('Gráfica de densida del accept_vaccine')\n",
        "sns.kdeplot(x=df_2_accept_vaccine['amount_of_positive_answers'],fill=True);\n",
        "plt.xlabel('Número de respuestas positivas')\n",
        "plt.ylabel('Densidad');\n",
        "plt.axvline(x=media_02, color='red', label='Media');\n",
        "plt.axvline(x=mediana_02, color='green', label='Mediana');\n",
        "plt.axvline(x=std_02, color = 'orange', label='1 STD');\n",
        "plt.axvline(x=-std_02, color = 'orange')\n",
        "plt.axvline(x=2*std_02, color = 'blue', label='2 STD');\n",
        "plt.axvline(x=-2*std_02, color = 'blue')\n",
        "plt.axvline(x=3*std_02, color = 'yellow', label='3 STD');\n",
        "plt.axvline(x=-3*std_02, color = 'yellow')\n",
        "plt.legend(); "
      ],
      "execution_count": 688,
      "outputs": [
        {
          "output_type": "display_data",
          "data": {
            "image/png": "[encoded data removed]",
            "text/plain": [
              "<Figure size 360x360 with 1 Axes>"
            ]
          },
          "metadata": {}
        }
      ]
    },
    {
      "cell_type": "code",
      "metadata": {
        "colab": {
          "base_uri": "https://localhost:8080/"
        },
        "id": "mE1diKHDFR_3",
        "outputId": "a46dd766-86cf-4e93-ca8d-308c6956892b"
      },
      "source": [
        "print(f\"Kurtosis: {kurtosis(df_2_accept_vaccine['amount_of_positive_answers'])}\")\n",
        "print(f\"Asimetria: {skew(df_2_accept_vaccine['amount_of_positive_answers'])}\")"
      ],
      "execution_count": 689,
      "outputs": [
        {
          "output_type": "stream",
          "name": "stdout",
          "text": [
            "Kurtosis: -0.6300303130389606\n",
            "Asimetria: -0.5008690511068308\n"
          ]
        }
      ]
    },
    {
      "cell_type": "markdown",
      "metadata": {
        "id": "O-wlfJrl_ND2"
      },
      "source": [
        "###### **Barrier_side_effects**"
      ]
    },
    {
      "cell_type": "code",
      "metadata": {
        "colab": {
          "base_uri": "https://localhost:8080/",
          "height": 349
        },
        "id": "Y4VDxzkwFizO",
        "outputId": "bebd81ad-c36a-485f-c88e-150cc1bdb74a"
      },
      "source": [
        "# Configuramos la gráfica de densidad\n",
        "plt.figure(figsize=(5,5))\n",
        "plt.title('Gráfica de densida del barrier_side_effects')\n",
        "sns.kdeplot(x=df_3_barrier_side_effects['amount_of_positive_answers'],fill=True);\n",
        "plt.xlabel('Número de respuestas positivas')\n",
        "plt.ylabel('Densidad');\n",
        "plt.axvline(x=media_03, color='red', label='Media');\n",
        "plt.axvline(x=mediana_03, color='green', label='Mediana');\n",
        "plt.axvline(x=std_03, color = 'orange', label='1 STD');\n",
        "plt.axvline(x=-std_03, color = 'orange')\n",
        "plt.axvline(x=2*std_03, color = 'blue', label='2 STD');\n",
        "plt.axvline(x=-2*std_03, color = 'blue')\n",
        "plt.axvline(x=3*std_03, color = 'yellow', label='3 STD');\n",
        "plt.axvline(x=-3*std_03, color = 'yellow')\n",
        "plt.legend(); "
      ],
      "execution_count": 690,
      "outputs": [
        {
          "output_type": "display_data",
          "data": {
            "image/png": "[encoded data removed]",
            "text/plain": [
              "<Figure size 360x360 with 1 Axes>"
            ]
          },
          "metadata": {}
        }
      ]
    },
    {
      "cell_type": "code",
      "metadata": {
        "colab": {
          "base_uri": "https://localhost:8080/"
        },
        "id": "Za9twf9BFyhX",
        "outputId": "0add62a4-440e-4704-8d0b-f3de85649e7a"
      },
      "source": [
        "print(f\"Kurtosis: {kurtosis(df_3_barrier_side_effects['amount_of_positive_answers'])}\")\n",
        "print(f\"Asimetria: {skew(df_3_barrier_side_effects['amount_of_positive_answers'])}\")"
      ],
      "execution_count": 691,
      "outputs": [
        {
          "output_type": "stream",
          "name": "stdout",
          "text": [
            "Kurtosis: 0.9295041043783878\n",
            "Asimetria: 0.6192526454122463\n"
          ]
        }
      ]
    },
    {
      "cell_type": "markdown",
      "metadata": {
        "id": "wtsUklMw-QSx"
      },
      "source": [
        "#### _**Sesión 3:** Exploración de variables categóricas y análisis multivariable_"
      ]
    },
    {
      "cell_type": "markdown",
      "metadata": {
        "id": "gvv1sTr9nF0j"
      },
      "source": [
        "1. **Convierte la variable numérica `covid_19 (df1)` en una variable categórica de 4 categorías, donde los valores de 0 a 0.0125 pasen a ser la categoría `Low`, los de 0.0125 a 0.025 la categoría `Normal`, los de 0.025 a 0.0375 la categoría `High` y los de 0.0375 en adelante la categoría `Very high`. Nombra la nueva columna como `contagion_rate` y elimina la columna llamada `covid_19`. Sin embargo, ten en cuenta que debes guardar los cambios en una variable distinta para conservar el _dataframe_ original.**\n",
        "\n",
        "2. **Nota que nuestras variables categórica son: `covid_19 (df1)`, `survey_date_short (df1)` y `region_where_applied (df1)`.**\n",
        "\n",
        "3. **Genera gráficas de barras con las variables categóricas `covid_19 (df1)`, `survey_date_short (df1)` y `region_where_applied (df1)`. Personaliza el estilo de las gráficas y nombra apropiadamente los títulos y los ejes.**\n",
        "\n",
        "4. **Genera una tabla de contingencia que incluya las tres variables categóricas antes mencionadas; las columnas deben ser las fechas cortas, mientras que los índices serán los nombres de los estados y las categorías de la variable `covid_19 (df1)` (nota que es una sola tabla con multi-índices en las filas, donde el índice principal es el nombre de cada estado).**\n",
        "\n",
        "5. **Genera `Boxplots` y `Violinplots` combinando la variable numérica `accept_vaccine (df2)` con la variable categórica `region_where_applied (df2)`. Para evitar tener muchos gráficos en un solo plano cartesiano, considera incluir, a lo sumo, cuatro `plots` por plano. Nota que son 32 estados; puedes hacer 16 `Boxplots` y 16 `Violinplopts`.**"
      ]
    },
    {
      "cell_type": "markdown",
      "metadata": {
        "id": "ZqQfdOOqIpwA"
      },
      "source": [
        "##### **1. Creación de la variable categorica covid_19**"
      ]
    },
    {
      "cell_type": "code",
      "metadata": {
        "colab": {
          "base_uri": "https://localhost:8080/",
          "height": 111
        },
        "id": "izYbUbfDK5vk",
        "outputId": "05ff6e94-ae0c-4673-c8a4-3cc042fb2038"
      },
      "source": [
        "# Lo primero que debemos hacer es un filtro con las variables que vamos a utilizar\n",
        "\n",
        "df_1_covid_19=df1_columnas_sin_indexar.iloc[:,[0,2,3,4]]\n",
        "amount_of_positive_answers=df_1_covid_19.sample_size*df_1_covid_19.indicator_percentage \n",
        "df_1_covid_19.insert(4,'amount_of_positive_answers',amount_of_positive_answers)\n",
        "df_1_covid_19.head(2)"
      ],
      "execution_count": 711,
      "outputs": [
        {
          "output_type": "execute_result",
          "data": {
            "text/html": [
              "<div>\n",
              "<style scoped>\n",
              "    .dataframe tbody tr th:only-of-type {\n",
              "        vertical-align: middle;\n",
              "    }\n",
              "\n",
              "    .dataframe tbody tr th {\n",
              "        vertical-align: top;\n",
              "    }\n",
              "\n",
              "    .dataframe thead th {\n",
              "        text-align: right;\n",
              "    }\n",
              "</style>\n",
              "<table border=\"1\" class=\"dataframe\">\n",
              "  <thead>\n",
              "    <tr style=\"text-align: right;\">\n",
              "      <th></th>\n",
              "      <th>region_where_applied</th>\n",
              "      <th>survey_date_short</th>\n",
              "      <th>indicator_percentage</th>\n",
              "      <th>sample_size</th>\n",
              "      <th>amount_of_positive_answers</th>\n",
              "    </tr>\n",
              "  </thead>\n",
              "  <tbody>\n",
              "    <tr>\n",
              "      <th>0</th>\n",
              "      <td>Aguascalientes</td>\n",
              "      <td>2020-11</td>\n",
              "      <td>0.023153</td>\n",
              "      <td>8453</td>\n",
              "      <td>195.712309</td>\n",
              "    </tr>\n",
              "    <tr>\n",
              "      <th>1</th>\n",
              "      <td>Aguascalientes</td>\n",
              "      <td>2020-11</td>\n",
              "      <td>0.020100</td>\n",
              "      <td>9490</td>\n",
              "      <td>190.749000</td>\n",
              "    </tr>\n",
              "  </tbody>\n",
              "</table>\n",
              "</div>"
            ],
            "text/plain": [
              "  region_where_applied  ... amount_of_positive_answers\n",
              "0       Aguascalientes  ...                 195.712309\n",
              "1       Aguascalientes  ...                 190.749000\n",
              "\n",
              "[2 rows x 5 columns]"
            ]
          },
          "metadata": {},
          "execution_count": 711
        }
      ]
    },
    {
      "cell_type": "code",
      "metadata": {
        "id": "3G1zlUyoM8UI"
      },
      "source": [
        "# Creamos los valores para el filtro para convetir a covid_19 en una variable categorica\n",
        "\n",
        "valores=[0,0.0125,0.025,0.375,math.inf]\n",
        "categorias=['Low','Normal','High','Very high']\n",
        "contagio_rate=pd.cut(x=df_1_covid_19['indicator_percentage'],bins=valores,labels=categorias)\n",
        "df_1_covid_19_02=df_1_covid_19.copy()\n",
        "df_1_covid_19_02.insert(4,'contagio_rate',contagio_rate)"
      ],
      "execution_count": 712,
      "outputs": []
    },
    {
      "cell_type": "code",
      "metadata": {
        "colab": {
          "base_uri": "https://localhost:8080/",
          "height": 111
        },
        "id": "RBz3a3bZOeVk",
        "outputId": "dcb555e2-cb7a-453a-864f-4bd2bf87fabd"
      },
      "source": [
        "df_1_covid_19_02.head(2)"
      ],
      "execution_count": 713,
      "outputs": [
        {
          "output_type": "execute_result",
          "data": {
            "text/html": [
              "<div>\n",
              "<style scoped>\n",
              "    .dataframe tbody tr th:only-of-type {\n",
              "        vertical-align: middle;\n",
              "    }\n",
              "\n",
              "    .dataframe tbody tr th {\n",
              "        vertical-align: top;\n",
              "    }\n",
              "\n",
              "    .dataframe thead th {\n",
              "        text-align: right;\n",
              "    }\n",
              "</style>\n",
              "<table border=\"1\" class=\"dataframe\">\n",
              "  <thead>\n",
              "    <tr style=\"text-align: right;\">\n",
              "      <th></th>\n",
              "      <th>region_where_applied</th>\n",
              "      <th>survey_date_short</th>\n",
              "      <th>indicator_percentage</th>\n",
              "      <th>sample_size</th>\n",
              "      <th>contagio_rate</th>\n",
              "      <th>amount_of_positive_answers</th>\n",
              "    </tr>\n",
              "  </thead>\n",
              "  <tbody>\n",
              "    <tr>\n",
              "      <th>0</th>\n",
              "      <td>Aguascalientes</td>\n",
              "      <td>2020-11</td>\n",
              "      <td>0.023153</td>\n",
              "      <td>8453</td>\n",
              "      <td>Normal</td>\n",
              "      <td>195.712309</td>\n",
              "    </tr>\n",
              "    <tr>\n",
              "      <th>1</th>\n",
              "      <td>Aguascalientes</td>\n",
              "      <td>2020-11</td>\n",
              "      <td>0.020100</td>\n",
              "      <td>9490</td>\n",
              "      <td>Normal</td>\n",
              "      <td>190.749000</td>\n",
              "    </tr>\n",
              "  </tbody>\n",
              "</table>\n",
              "</div>"
            ],
            "text/plain": [
              "  region_where_applied  ... amount_of_positive_answers\n",
              "0       Aguascalientes  ...                 195.712309\n",
              "1       Aguascalientes  ...                 190.749000\n",
              "\n",
              "[2 rows x 6 columns]"
            ]
          },
          "metadata": {},
          "execution_count": 713
        }
      ]
    },
    {
      "cell_type": "code",
      "metadata": {
        "colab": {
          "base_uri": "https://localhost:8080/",
          "height": 111
        },
        "id": "2p9Y9HbYPk68",
        "outputId": "cd2ebb77-a120-4f8a-8f26-610e4f3dd588"
      },
      "source": [
        "# Por último eliminamos la columna de indicator_percentage que es de covid_19\n",
        "df_1_covid_19_categorico=df_1_covid_19_02.copy()\n",
        "del(df_1_covid_19_categorico['indicator_percentage'])\n",
        "df_1_covid_19_categorico.head(2) #Así quedo lista la variable categorica"
      ],
      "execution_count": 714,
      "outputs": [
        {
          "output_type": "execute_result",
          "data": {
            "text/html": [
              "<div>\n",
              "<style scoped>\n",
              "    .dataframe tbody tr th:only-of-type {\n",
              "        vertical-align: middle;\n",
              "    }\n",
              "\n",
              "    .dataframe tbody tr th {\n",
              "        vertical-align: top;\n",
              "    }\n",
              "\n",
              "    .dataframe thead th {\n",
              "        text-align: right;\n",
              "    }\n",
              "</style>\n",
              "<table border=\"1\" class=\"dataframe\">\n",
              "  <thead>\n",
              "    <tr style=\"text-align: right;\">\n",
              "      <th></th>\n",
              "      <th>region_where_applied</th>\n",
              "      <th>survey_date_short</th>\n",
              "      <th>sample_size</th>\n",
              "      <th>contagio_rate</th>\n",
              "      <th>amount_of_positive_answers</th>\n",
              "    </tr>\n",
              "  </thead>\n",
              "  <tbody>\n",
              "    <tr>\n",
              "      <th>0</th>\n",
              "      <td>Aguascalientes</td>\n",
              "      <td>2020-11</td>\n",
              "      <td>8453</td>\n",
              "      <td>Normal</td>\n",
              "      <td>195.712309</td>\n",
              "    </tr>\n",
              "    <tr>\n",
              "      <th>1</th>\n",
              "      <td>Aguascalientes</td>\n",
              "      <td>2020-11</td>\n",
              "      <td>9490</td>\n",
              "      <td>Normal</td>\n",
              "      <td>190.749000</td>\n",
              "    </tr>\n",
              "  </tbody>\n",
              "</table>\n",
              "</div>"
            ],
            "text/plain": [
              "  region_where_applied  ... amount_of_positive_answers\n",
              "0       Aguascalientes  ...                 195.712309\n",
              "1       Aguascalientes  ...                 190.749000\n",
              "\n",
              "[2 rows x 5 columns]"
            ]
          },
          "metadata": {},
          "execution_count": 714
        }
      ]
    },
    {
      "cell_type": "markdown",
      "metadata": {
        "id": "NWTxxCvMR8Ut"
      },
      "source": [
        "##### **2. Creación de las variables categoricas region_where_applied y survey_date_short**"
      ]
    },
    {
      "cell_type": "markdown",
      "metadata": {
        "id": "mW78zhy-SDyv"
      },
      "source": [
        "###### **Region_where_applied**"
      ]
    },
    {
      "cell_type": "code",
      "metadata": {
        "colab": {
          "base_uri": "https://localhost:8080/"
        },
        "id": "dKNaaxeqSR35",
        "outputId": "e2df4355-d37d-429f-91f7-d1e82f00b70f"
      },
      "source": [
        "#Solo debemos aplicar la función astype\n",
        "df_1_covid_19_categorico['region_where_applied'].astype('category')"
      ],
      "execution_count": 718,
      "outputs": [
        {
          "output_type": "execute_result",
          "data": {
            "text/plain": [
              "0       Aguascalientes\n",
              "1       Aguascalientes\n",
              "2       Aguascalientes\n",
              "3       Aguascalientes\n",
              "4       Aguascalientes\n",
              "             ...      \n",
              "7060         Zacatecas\n",
              "7061         Zacatecas\n",
              "7062         Zacatecas\n",
              "7063         Zacatecas\n",
              "7064         Zacatecas\n",
              "Name: region_where_applied, Length: 7065, dtype: category\n",
              "Categories (32, object): ['Aguascalientes', 'Baja California', 'Baja California Sur', 'Campeche', ...,\n",
              "                          'Tlaxcala', 'Veracruz', 'Yucatán', 'Zacatecas']"
            ]
          },
          "metadata": {},
          "execution_count": 718
        }
      ]
    },
    {
      "cell_type": "markdown",
      "metadata": {
        "id": "2dZRyhGzSMSk"
      },
      "source": [
        "###### **Survey_date_short**"
      ]
    },
    {
      "cell_type": "code",
      "metadata": {
        "colab": {
          "base_uri": "https://localhost:8080/"
        },
        "id": "Aav6BvVKTK-p",
        "outputId": "5a80ec8d-0edd-4aa3-8316-269b58282c7b"
      },
      "source": [
        "#Solo debemos aplicar la función astype\n",
        "df_1_covid_19_categorico['survey_date_short'].astype('category')"
      ],
      "execution_count": 722,
      "outputs": [
        {
          "output_type": "execute_result",
          "data": {
            "text/plain": [
              "0       2020-11\n",
              "1       2020-11\n",
              "2       2020-11\n",
              "3       2020-11\n",
              "4       2020-11\n",
              "         ...   \n",
              "7060     2021-2\n",
              "7061     2021-5\n",
              "7062     2021-8\n",
              "7063     2021-8\n",
              "7064     2021-8\n",
              "Name: survey_date_short, Length: 7065, dtype: category\n",
              "Categories (11, object): ['2020-11', '2020-12', '2021-1', '2021-2', ..., '2021-6', '2021-7', '2021-8',\n",
              "                          '2021-9']"
            ]
          },
          "metadata": {},
          "execution_count": 722
        }
      ]
    },
    {
      "cell_type": "markdown",
      "metadata": {
        "id": "lCQfAOnlUEQF"
      },
      "source": [
        "##### **3. Creación de las gráficas de barra**"
      ]
    },
    {
      "cell_type": "markdown",
      "metadata": {
        "id": "e4BA9kieUUBg"
      },
      "source": [
        "###### **Covid_19**"
      ]
    },
    {
      "cell_type": "code",
      "metadata": {
        "colab": {
          "base_uri": "https://localhost:8080/",
          "height": 280
        },
        "id": "Z9GIFFfcUbKo",
        "outputId": "f36a1b96-1371-4c86-c78b-d4307aa7d9cf"
      },
      "source": [
        "# Primero hacemos el conteo de cada actegoria\n",
        "counts_covid_19=df_1_covid_19_categorico['contagio_rate'].value_counts()\n",
        "\n",
        "# Luego configuramos la gráfica de barra\n",
        "ax= sns.barplot(x=counts_covid_19.index,y=counts_covid_19, order=counts_covid_19.index)\n",
        "ax.set_title('Cantidad de casos confimados por día de covid_19')\n",
        "ax.set(ylabel='Cantidad diaria en todo México');"
      ],
      "execution_count": 727,
      "outputs": [
        {
          "output_type": "display_data",
          "data": {
            "image/png": "[encoded data removed]",
            "text/plain": [
              "<Figure size 432x288 with 1 Axes>"
            ]
          },
          "metadata": {}
        }
      ]
    },
    {
      "cell_type": "markdown",
      "metadata": {
        "id": "z6Y6RteYUVN3"
      },
      "source": [
        "###### **Region_where_applied**"
      ]
    },
    {
      "cell_type": "code",
      "metadata": {
        "colab": {
          "base_uri": "https://localhost:8080/",
          "height": 620
        },
        "id": "1PTmaDN5Wm4r",
        "outputId": "0028805c-6e5f-4a5a-97b2-2152d049fafc"
      },
      "source": [
        "# Primero hacemos el conteo de cada actegoria\n",
        "counts_region_where_applied=df_1_covid_19_categorico['region_where_applied'].value_counts()\n",
        "\n",
        "# Luego configuramos la gráfica de barra\n",
        "plt.figure(figsize=(10,10))\n",
        "ax= sns.barplot(y=counts_region_where_applied.index,x=counts_region_where_applied, order=counts_region_where_applied.index)\n",
        "ax.set_title('Cantidad de muestras tomas por estado');\n",
        "ax.set(ylabel='Estado', xlabel='Numero de muestras tomadas');"
      ],
      "execution_count": 731,
      "outputs": [
        {
          "output_type": "display_data",
          "data": {
            "image/png": "[encoded data removed]",
            "text/plain": [
              "<Figure size 720x720 with 1 Axes>"
            ]
          },
          "metadata": {}
        }
      ]
    },
    {
      "cell_type": "markdown",
      "metadata": {
        "id": "KGM1jOjAUXpl"
      },
      "source": [
        "###### **Survey_date_short**"
      ]
    },
    {
      "cell_type": "code",
      "metadata": {
        "colab": {
          "base_uri": "https://localhost:8080/",
          "height": 620
        },
        "id": "B6ahFhE6X9Mz",
        "outputId": "9e758801-3fcd-4859-df37-f498ede63bf6"
      },
      "source": [
        "# Primero hacemos el conteo de cada actegoria\n",
        "counts_survey_date_short=df_1_covid_19_categorico['survey_date_short'].value_counts()\n",
        "\n",
        "# Luego configuramos la gráfica de barra\n",
        "plt.figure(figsize=(10,10))\n",
        "ax= sns.barplot(y=counts_survey_date_short.index,x=counts_survey_date_short, order=counts_survey_date_short.index)\n",
        "ax.set_title('Cantidad de muestras tomas por fecha');\n",
        "ax.set(ylabel='Fecha', xlabel='Numero de muestras tomadas');"
      ],
      "execution_count": 733,
      "outputs": [
        {
          "output_type": "display_data",
          "data": {
            "image/png": "[encoded data removed]",
            "text/plain": [
              "<Figure size 720x720 with 1 Axes>"
            ]
          },
          "metadata": {}
        }
      ]
    },
    {
      "cell_type": "markdown",
      "metadata": {
        "id": "ri32f4oxYdFP"
      },
      "source": [
        ""
      ]
    },
    {
      "cell_type": "markdown",
      "metadata": {
        "id": "hMfKyIkS-Ql4"
      },
      "source": [
        "#### _**Sesión 4:** Correlaciones y Regresión linear simple_"
      ]
    },
    {
      "cell_type": "markdown",
      "metadata": {
        "id": "jnmDrMwbgr62"
      },
      "source": [
        "1. **Genera una tabla de correlaciones utilizando la función `croostab`. Hazlo con cada uno de los _dataframes_ globales que ya conoces.**\n",
        "2. **Genera mapas de calor para cada una de las tablas anteriores. Personaliza el estilo y asígnales nombres apropiados.**\n",
        "**Recuerda que en este punto del desarrollo, los _dataframes_ ya tienen que estar perfectamente limpios y los nombres de las columnas deben ser los adecuados.**\n",
        "3. **Genera un `Pairplot` del tercer _dataframe_ dejando fuera las variables `partially_vaccinated` y `fully_vaccinated`.**\n",
        "4. **Repite el primer punto de la Sesión 2, pero utilizando `scatterplots` en vez de `boxplots`. Haz una comparación y anota tus observaciones.**\n",
        "5. **Aplica un modelo de regresión lineal simple para las variables `covid_19` (nota que este indicador está en el _dataframe_ que no contiene a la variable catergórica `contagion_rate` ni a las columnas `sample_size`) y `wear_a_mask`.**\n",
        "6. **Aplica un modelo de regresión lineal multivariable con las variables `trust_healthcare_recommendation`, `trust_government_recommendation`, `trust_family_recommendation` y `accept_vaccine` (siendo esta última la variable independiente).**"
      ]
    },
    {
      "cell_type": "markdown",
      "metadata": {
        "id": "iyrqwhwx-Quu"
      },
      "source": [
        "#### _**Sesión 5:** Distribuciones muestrales y Técnicas de evaluación de modelos_"
      ]
    },
    {
      "cell_type": "markdown",
      "metadata": {
        "id": "VR70NVN5-Q5f"
      },
      "source": [
        "#### _**Sesión 6:** Visualización de datos avanzada_"
      ]
    },
    {
      "cell_type": "markdown",
      "metadata": {
        "id": "8_mjb7nP-RA8"
      },
      "source": [
        "#### _**Sesión 7:** Pruebas A/B y Procesamiento de lenguaje natural_"
      ]
    },
    {
      "cell_type": "markdown",
      "metadata": {
        "id": "YN0TzHzj-RPT"
      },
      "source": [
        "#### _**Sesión 8:** Introducción a Machine Learning: clasificación no supervisada y supervisada_"
      ]
    }
  ]
}